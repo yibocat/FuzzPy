{
 "cells": [
  {
   "cell_type": "code",
   "execution_count": null,
   "metadata": {
    "collapsed": true
   },
   "outputs": [],
   "source": [
    "import arithmeticLib as ar"
   ]
  },
  {
   "cell_type": "code",
   "execution_count": null,
   "outputs": [],
   "source": [
    "s1 = \"{{0.6,0.5},{0.7,0.6,0.2}}\"            # hesitant fuzzy element\n",
    "s2 = \"{[0.6,0.4,0.3],[0.32,0.55,0.1]}\"      # hesitant fuzzy element\n",
    "s3 = \"[[0.6,0.54,0.2],[0.3,0.4,0.2]]\"       # hesitant fuzzy element\n",
    "\n",
    "s4 = \"[0.6, 0.]\"                # fuzzy number\n",
    "s5 = \"[0.7,0.4]\"                # fuzzy number\n",
    "s6 = \"[[0.6,0.7],[0.1,0.2]]\"    # interval-valued number"
   ],
   "metadata": {
    "collapsed": false
   }
  },
  {
   "cell_type": "code",
   "execution_count": null,
   "outputs": [],
   "source": [
    "ar.qrunghfe_convert(s3,3)"
   ],
   "metadata": {
    "collapsed": false
   }
  },
  {
   "cell_type": "code",
   "execution_count": null,
   "outputs": [],
   "source": [
    "ar.qrungfn_convert(s5,2)"
   ],
   "metadata": {
    "collapsed": false
   }
  },
  {
   "cell_type": "code",
   "execution_count": null,
   "outputs": [],
   "source": [
    "ar.qrungivfn_convert(s6,2)"
   ],
   "metadata": {
    "collapsed": false
   }
  },
  {
   "cell_type": "code",
   "execution_count": null,
   "outputs": [],
   "source": [],
   "metadata": {
    "collapsed": false
   }
  }
 ],
 "metadata": {
  "kernelspec": {
   "display_name": "Python 3",
   "language": "python",
   "name": "python3"
  },
  "language_info": {
   "codemirror_mode": {
    "name": "ipython",
    "version": 2
   },
   "file_extension": ".py",
   "mimetype": "text/x-python",
   "name": "python",
   "nbconvert_exporter": "python",
   "pygments_lexer": "ipython2",
   "version": "2.7.6"
  }
 },
 "nbformat": 4,
 "nbformat_minor": 0
}
