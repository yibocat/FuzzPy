{
 "cells": [
  {
   "cell_type": "code",
   "execution_count": null,
   "metadata": {
    "collapsed": true
   },
   "outputs": [],
   "source": [
    "from dictionary import save_dict,load_dict"
   ]
  },
  {
   "cell_type": "code",
   "execution_count": null,
   "outputs": [],
   "source": [
    "import fuzzyelement\n",
    "from fuzzyelement.IVFNumbers import (qrungivfn, randomIVFN, str_to_ivfn)\n",
    "from fuzzyelement.FNumbers import (qrungfn, randomFN, str_to_fn)\n",
    "from fuzzyelement.DHFElements import (qrunghfe, randomQHF, str_to_hfe)\n",
    "from generator import DHFEGenerator, FNGenerator, IVFNGenerator"
   ],
   "metadata": {
    "collapsed": false
   }
  },
  {
   "cell_type": "code",
   "execution_count": null,
   "outputs": [],
   "source": [
    "d = {\n",
    "        'qrunghfe': {\n",
    "            'type': qrunghfe,\n",
    "            'random': randomQHF,\n",
    "            'generator': DHFEGenerator,\n",
    "            'convert_str': str_to_hfe,\n",
    "            'intersection': fuzzyelement.DHFElements.intersection,\n",
    "            'unions': fuzzyelement.DHFElements.unions,\n",
    "            'algebraicmultiplication': fuzzyelement.DHFElements.algebraicmultiplication,\n",
    "            'algebraicplus': fuzzyelement.DHFElements.algebraicplus,\n",
    "            'einsteinmultiplication': fuzzyelement.DHFElements.einsteinmultiplication,\n",
    "            'einsteinplus': fuzzyelement.DHFElements.einsteinplus,\n",
    "            'one': fuzzyelement.DHFElements.one,\n",
    "            'zero': fuzzyelement.DHFElements.zero,\n",
    "            'minusone': fuzzyelement.DHFElements.minusone,\n",
    "        },\n",
    "        'qrungfn': {\n",
    "            'type': qrungfn,\n",
    "            'random': randomFN,\n",
    "            'generator': FNGenerator,\n",
    "            'convert_str': str_to_fn,\n",
    "            'intersection': fuzzyelement.FNumbers.intersection,\n",
    "            'unions': fuzzyelement.FNumbers.unions,\n",
    "            'algebraicmultiplication': fuzzyelement.FNumbers.algebraicmultiplication,\n",
    "            'algebraicplus': fuzzyelement.FNumbers.algebraicplus,\n",
    "            'einsteinmultiplication': fuzzyelement.FNumbers.einsteinmultiplication,\n",
    "            'einsteinplus': fuzzyelement.FNumbers.einsteinplus,\n",
    "            'one': fuzzyelement.FNumbers.one,\n",
    "            'zero': fuzzyelement.FNumbers.zero,\n",
    "            'minusone': fuzzyelement.FNumbers.minusone,\n",
    "        },\n",
    "        'qrungivfn': {\n",
    "            'type': qrungivfn,\n",
    "            'random': randomIVFN,\n",
    "            'generator': IVFNGenerator,\n",
    "            'convert_str': str_to_ivfn,\n",
    "            'intersection': fuzzyelement.IVFNumbers.intersection,\n",
    "            'unions': fuzzyelement.IVFNumbers.unions,\n",
    "            'algebraicmultiplication': fuzzyelement.IVFNumbers.algebraicmultiplication,\n",
    "            'algebraicplus': fuzzyelement.IVFNumbers.algebraicplus,\n",
    "            'einsteinmultiplication': fuzzyelement.IVFNumbers.einsteinmultiplication,\n",
    "            'einsteinplus': fuzzyelement.IVFNumbers.einsteinplus,\n",
    "            'one': fuzzyelement.IVFNumbers.one,\n",
    "            'zero': fuzzyelement.IVFNumbers.zero,\n",
    "            'minusone': fuzzyelement.IVFNumbers.minusone,\n",
    "        }\n",
    "    }"
   ],
   "metadata": {
    "collapsed": false
   }
  },
  {
   "cell_type": "code",
   "execution_count": null,
   "outputs": [],
   "source": [
    "save_dict(d)"
   ],
   "metadata": {
    "collapsed": false
   }
  }
 ],
 "metadata": {
  "kernelspec": {
   "display_name": "Python 3",
   "language": "python",
   "name": "python3"
  },
  "language_info": {
   "codemirror_mode": {
    "name": "ipython",
    "version": 2
   },
   "file_extension": ".py",
   "mimetype": "text/x-python",
   "name": "python",
   "nbconvert_exporter": "python",
   "pygments_lexer": "ipython2",
   "version": "2.7.6"
  }
 },
 "nbformat": 4,
 "nbformat_minor": 0
}
