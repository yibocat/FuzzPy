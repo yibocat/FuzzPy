{
 "cells": [
  {
   "cell_type": "code",
   "execution_count": 1,
   "outputs": [],
   "source": [
    "import numpy as np\n",
    "import mohupy as mp\n",
    "from mohupy.core.__operators import add,sub,mul,div,pow,matmul,equal,inequal,lt,gt,le,ge"
   ],
   "metadata": {
    "collapsed": false
   }
  },
  {
   "cell_type": "code",
   "execution_count": 2,
   "outputs": [],
   "source": [
    "n1 = np.random.rand()               # 数\n",
    "n2 = np.random.rand(2,3)            # 数集合\n",
    "n3 = np.array(n1)                   # 数向量\n",
    "n4 = np.random.rand(1,)             # 数集合 2\n",
    "\n",
    "\n",
    "t1 = mp.randnum(3, 'qrofn')         # 模糊数\n",
    "t2 = mp.randset(3, 'qrofn', 2,3)    # 模糊集合\n",
    "t3 = mp.fuzzset(t1)                 # 模糊向量\n",
    "t4 = mp.randset(3, 'qrofn', 1)    # 模糊集合 2"
   ],
   "metadata": {
    "collapsed": false
   }
  },
  {
   "cell_type": "markdown",
   "source": [
    "# 加法"
   ],
   "metadata": {
    "collapsed": false
   }
  },
  {
   "cell_type": "code",
   "execution_count": 3,
   "outputs": [
    {
     "name": "stdout",
     "output_type": "stream",
     "text": [
      "<0.8315,0.4523>\n",
      "[[<0.7056,0.6119> <0.8323,0.2529> <0.9349,0.3696>]\n",
      " [<0.7037,0.6158> <0.7074,0.1266> <0.7109,0.4928>]]\n",
      "<0.8315,0.4523>\n",
      "[<0.7116,0.0446>]\n"
     ]
    }
   ],
   "source": [
    "print(add(t1, t1))\n",
    "print(add(t1, t2))\n",
    "print(add(t1, t3))\n",
    "print(add(t1, t4))"
   ],
   "metadata": {
    "collapsed": false
   }
  },
  {
   "cell_type": "code",
   "execution_count": 4,
   "outputs": [
    {
     "name": "stdout",
     "output_type": "stream",
     "text": [
      "[[<0.7056,0.6119> <0.8323,0.2529> <0.9349,0.3696>]\n",
      " [<0.7037,0.6158> <0.7074,0.1266> <0.7109,0.4928>]]\n",
      "[[<0.2159,0.828> <0.8332,0.1414> <0.9731,0.3021>]\n",
      " [<0.1072,0.8385> <0.2634,0.0355> <0.3256,0.537>]]\n",
      "[[<0.7056,0.6119> <0.8323,0.2529> <0.9349,0.3696>]\n",
      " [<0.7037,0.6158> <0.7074,0.1266> <0.7109,0.4928>]]\n",
      "[[<0.2876,0.0603> <0.7133,0.0249> <0.8983,0.0364>]\n",
      " [<0.2689,0.0607> <0.3031,0.0125> <0.3299,0.0486>]]\n"
     ]
    }
   ],
   "source": [
    "print(add(t2, t1))\n",
    "print(add(t2, t2))\n",
    "print(add(t2, t3))\n",
    "print(add(t2, t4))"
   ],
   "metadata": {
    "collapsed": false
   }
  },
  {
   "cell_type": "code",
   "execution_count": 5,
   "outputs": [
    {
     "name": "stdout",
     "output_type": "stream",
     "text": [
      "<0.8315,0.4523>\n",
      "[[<0.7056,0.6119> <0.8323,0.2529> <0.9349,0.3696>]\n",
      " [<0.7037,0.6158> <0.7074,0.1266> <0.7109,0.4928>]]\n",
      "<0.8315,0.4523>\n",
      "[<0.7116,0.0446>]\n"
     ]
    }
   ],
   "source": [
    "print(add(t3, t1))\n",
    "print(add(t3, t2))\n",
    "print(add(t3, t3))\n",
    "print(add(t3, t4))"
   ],
   "metadata": {
    "collapsed": false
   }
  },
  {
   "cell_type": "code",
   "execution_count": 6,
   "outputs": [
    {
     "name": "stdout",
     "output_type": "stream",
     "text": [
      "[<0.7116,0.0446>]\n",
      "[[<0.2876,0.0603> <0.7133,0.0249> <0.8983,0.0364>]\n",
      " [<0.2689,0.0607> <0.3031,0.0125> <0.3299,0.0486>]]\n",
      "[<0.7116,0.0446>]\n",
      "[<0.3342,0.0044>]\n"
     ]
    }
   ],
   "source": [
    "print(add(t4, t1))\n",
    "print(add(t4, t2))\n",
    "print(add(t4, t3))\n",
    "print(add(t4, t4))"
   ],
   "metadata": {
    "collapsed": false
   }
  },
  {
   "cell_type": "markdown",
   "source": [
    "# 减法"
   ],
   "metadata": {
    "collapsed": false
   }
  },
  {
   "cell_type": "code",
   "execution_count": 7,
   "outputs": [
    {
     "name": "stdout",
     "output_type": "stream",
     "text": [
      "<0.0,1.0>\n",
      "[[<0.7011,0.7391> <0.0,1.0> <0.0,1.0>]\n",
      " [<0.7031,0.7344> <0.0,1.0> <0.0,1.0>]]\n",
      "<0.0,1.0>\n",
      "[<0.0,1.0>]\n"
     ]
    }
   ],
   "source": [
    "print(sub(t1, t1))\n",
    "print(sub(t1, t2))\n",
    "print(sub(t1, t3))\n",
    "print(sub(t1, t4))"
   ],
   "metadata": {
    "collapsed": false
   }
  },
  {
   "cell_type": "code",
   "execution_count": 8,
   "outputs": [
    {
     "name": "stdout",
     "output_type": "stream",
     "text": [
      "[[<0.0,1.0> <0.1602,0.5591> <0.0,1.0>]\n",
      " [<0.0,1.0> <0.0,1.0> <0.0,1.0>]]\n",
      "[[<0.0,1.0> <0.0,1.0> <0.0,1.0>]\n",
      " [<0.0,1.0> <0.0,1.0> <0.0,1.0>]]\n",
      "[[<0.0,1.0> <0.1602,0.5591> <0.0,1.0>]\n",
      " [<0.0,1.0> <0.0,1.0> <0.0,1.0>]]\n",
      "[[<0.0,1.0> <0.0,1.0> <0.0,1.0>]\n",
      " [<0.0,1.0> <0.0,1.0> <0.0,1.0>]]\n"
     ]
    }
   ],
   "source": [
    "print(sub(t2, t1))\n",
    "print(sub(t2, t2))\n",
    "print(sub(t2, t3))\n",
    "print(sub(t2, t4))"
   ],
   "metadata": {
    "collapsed": false
   }
  },
  {
   "cell_type": "code",
   "execution_count": 9,
   "outputs": [
    {
     "name": "stdout",
     "output_type": "stream",
     "text": [
      "<0.0,1.0>\n",
      "[[<0.7011,0.7391> <0.0,1.0> <0.0,1.0>]\n",
      " [<0.7031,0.7344> <0.0,1.0> <0.0,1.0>]]\n",
      "<0.0,1.0>\n",
      "[<0.0,1.0>]\n"
     ]
    }
   ],
   "source": [
    "print(sub(t3, t1))\n",
    "print(sub(t3, t2))\n",
    "print(sub(t3, t3))\n",
    "print(sub(t3, t4))"
   ],
   "metadata": {
    "collapsed": false
   }
  },
  {
   "cell_type": "code",
   "execution_count": 10,
   "outputs": [
    {
     "name": "stdout",
     "output_type": "stream",
     "text": [
      "[<0.0,1.0>]\n",
      "[[<0.2402,0.0729> <0.0,1.0> <0.0,1.0>]\n",
      " [<0.2632,0.0724> <0.2136,0.3521> <0.1134,0.0905>]]\n",
      "[<0.0,1.0>]\n",
      "[<0.0,1.0>]\n"
     ]
    }
   ],
   "source": [
    "print(sub(t4, t1))\n",
    "print(sub(t4, t2))\n",
    "print(sub(t4, t3))\n",
    "print(sub(t4, t4))"
   ],
   "metadata": {
    "collapsed": false
   }
  },
  {
   "cell_type": "markdown",
   "source": [
    "# 乘法"
   ],
   "metadata": {
    "collapsed": false
   }
  },
  {
   "cell_type": "code",
   "execution_count": 11,
   "outputs": [
    {
     "name": "stdout",
     "output_type": "stream",
     "text": [
      "<0.5223,0.8671>\n",
      "[[<0.122,0.9666> <0.5238,0.7036> <0.7158,0.8065>]\n",
      " [<0.0605,0.9688> <0.149,0.5488> <0.1846,0.8943>]]\n",
      "<0.5223,0.8671>\n",
      "[<0.1896,0.3771>]\n"
     ]
    }
   ],
   "source": [
    "print(mul(n1, t1))\n",
    "print(mul(n1, t2))\n",
    "print(mul(n1, t3))\n",
    "print(mul(n1, t4))"
   ],
   "metadata": {
    "collapsed": false
   }
  },
  {
   "cell_type": "code",
   "execution_count": 12,
   "outputs": [
    {
     "name": "stdout",
     "output_type": "stream",
     "text": [
      "[[<0.6057,0.7921> <0.4417,0.9198> <0.5274,0.8632>]\n",
      " [<0.0947,0.9992> <0.6294,0.7664> <0.6791,0.7057>]]\n",
      "[[<0.1437,0.9461> <0.443,0.8138> <0.7218,0.8009>]\n",
      " [<0.0107,0.9998> <0.1834,0.3264> <0.2483,0.761>]]\n",
      "[[<0.6057,0.7921> <0.4417,0.9198> <0.5274,0.8632>]\n",
      " [<0.0947,0.9992> <0.6294,0.7664> <0.6791,0.7057>]]\n",
      "[[<0.2232,0.203> <0.1587,0.5646> <0.1916,0.3655>]\n",
      " [<0.0336,0.9946> <0.2332,0.1621> <0.2549,0.0922>]]\n"
     ]
    }
   ],
   "source": [
    "print(mul(n2, t1))\n",
    "print(mul(n2, t2))\n",
    "print(mul(n2, t3))\n",
    "print(mul(n2, t4))"
   ],
   "metadata": {
    "collapsed": false
   }
  },
  {
   "cell_type": "code",
   "execution_count": 13,
   "outputs": [
    {
     "name": "stdout",
     "output_type": "stream",
     "text": [
      "<0.5223,0.8671>\n",
      "[[<0.122,0.9666> <0.5238,0.7036> <0.7158,0.8065>]\n",
      " [<0.0605,0.9688> <0.149,0.5488> <0.1846,0.8943>]]\n",
      "<0.5223,0.8671>\n",
      "[<0.1896,0.3771>]\n"
     ]
    }
   ],
   "source": [
    "print(mul(n3, t1))\n",
    "print(mul(n3, t2))\n",
    "print(mul(n3, t3))\n",
    "print(mul(n3, t4))"
   ],
   "metadata": {
    "collapsed": false
   }
  },
  {
   "cell_type": "code",
   "execution_count": 14,
   "outputs": [
    {
     "name": "stdout",
     "output_type": "stream",
     "text": [
      "[<0.2333,0.9882>]\n",
      "[[<0.0533,0.9972> <0.2341,0.9712> <0.3341,0.9823>]\n",
      " [<0.0264,0.9974> <0.0651,0.9513> <0.0807,0.9907>]]\n",
      "[<0.2333,0.9882>]\n",
      "[<0.0828,0.9221>]\n"
     ]
    }
   ],
   "source": [
    "print(mul(n4, t1))\n",
    "print(mul(n4, t2))\n",
    "print(mul(n4, t3))\n",
    "print(mul(n4, t4))"
   ],
   "metadata": {
    "collapsed": false
   }
  },
  {
   "cell_type": "code",
   "execution_count": 15,
   "outputs": [
    {
     "name": "stdout",
     "output_type": "stream",
     "text": [
      "<0.4948,0.802>\n",
      "[[<0.1207,0.9392> <0.496,0.6987> <0.6303,0.7487>]\n",
      " [<0.0598,0.943> <0.1473,0.6759> <0.1823,0.833>]]\n",
      "<0.4948,0.802>\n",
      "[<0.1872,0.6727>]\n"
     ]
    }
   ],
   "source": [
    "print(mul(t1, t1))\n",
    "print(mul(t1, t2))\n",
    "print(mul(t1, t3))\n",
    "print(mul(t1, t4))"
   ],
   "metadata": {
    "collapsed": false
   }
  },
  {
   "cell_type": "code",
   "execution_count": 16,
   "outputs": [
    {
     "name": "stdout",
     "output_type": "stream",
     "text": [
      "[[<0.1207,0.9392> <0.496,0.6987> <0.6303,0.7487>]\n",
      " [<0.0598,0.943> <0.1473,0.6759> <0.1823,0.833>]]\n",
      "[[<0.0294,0.9793> <0.4973,0.4695> <0.803,0.6728>]\n",
      " [<0.0072,0.9817> <0.0438,0.237> <0.0672,0.8582>]]\n",
      "[[<0.1207,0.9392> <0.496,0.6987> <0.6303,0.7487>]\n",
      " [<0.0598,0.943> <0.1473,0.6759> <0.1823,0.833>]]\n",
      "[[<0.0456,0.91> <0.1876,0.3767> <0.2384,0.5499>]\n",
      " [<0.0226,0.9157> <0.0557,0.191> <0.069,0.7329>]]\n"
     ]
    }
   ],
   "source": [
    "print(mul(t2, t1))\n",
    "print(mul(t2, t2))\n",
    "print(mul(t2, t3))\n",
    "print(mul(t2, t4))"
   ],
   "metadata": {
    "collapsed": false
   }
  },
  {
   "cell_type": "code",
   "execution_count": 17,
   "outputs": [
    {
     "name": "stdout",
     "output_type": "stream",
     "text": [
      "<0.4948,0.802>\n",
      "[[<0.1207,0.9392> <0.496,0.6987> <0.6303,0.7487>]\n",
      " [<0.0598,0.943> <0.1473,0.6759> <0.1823,0.833>]]\n",
      "<0.4948,0.802>\n",
      "[<0.1872,0.6727>]\n"
     ]
    }
   ],
   "source": [
    "print(mul(t3, t1))\n",
    "print(mul(t3, t2))\n",
    "print(mul(t3, t3))\n",
    "print(mul(t3, t4))"
   ],
   "metadata": {
    "collapsed": false
   }
  },
  {
   "cell_type": "code",
   "execution_count": 18,
   "outputs": [
    {
     "name": "stdout",
     "output_type": "stream",
     "text": [
      "[<0.1872,0.6727>]\n",
      "[[<0.0456,0.91> <0.1876,0.3767> <0.2384,0.5499>]\n",
      " [<0.0226,0.9157> <0.0557,0.191> <0.069,0.7329>]]\n",
      "[<0.1872,0.6727>]\n",
      "[<0.0708,0.0835>]\n"
     ]
    }
   ],
   "source": [
    "print(mul(t4, t1))\n",
    "print(mul(t4, t2))\n",
    "print(mul(t4, t3))\n",
    "print(mul(t4, t4))"
   ],
   "metadata": {
    "collapsed": false
   }
  },
  {
   "cell_type": "code",
   "execution_count": 19,
   "outputs": [
    {
     "name": "stdout",
     "output_type": "stream",
     "text": [
      "<0.5223,0.8671>\n",
      "[[<0.6057,0.7921> <0.4417,0.9198> <0.5274,0.8632>]\n",
      " [<0.0947,0.9992> <0.6294,0.7664> <0.6791,0.7057>]]\n",
      "<0.5223,0.8671>\n",
      "[<0.2333,0.9882>]\n"
     ]
    }
   ],
   "source": [
    "print(mul(t1, n1))\n",
    "print(mul(t1, n2))\n",
    "print(mul(t1, n3))\n",
    "print(mul(t1, n4))"
   ],
   "metadata": {
    "collapsed": false
   }
  },
  {
   "cell_type": "code",
   "execution_count": 20,
   "outputs": [
    {
     "name": "stdout",
     "output_type": "stream",
     "text": [
      "[[<0.122,0.9666> <0.5238,0.7036> <0.7158,0.8065>]\n",
      " [<0.0605,0.9688> <0.149,0.5488> <0.1846,0.8943>]]\n",
      "[[<0.1437,0.9461> <0.443,0.8138> <0.7218,0.8009>]\n",
      " [<0.0107,0.9998> <0.1834,0.3264> <0.2483,0.761>]]\n",
      "[[<0.122,0.9666> <0.5238,0.7036> <0.7158,0.8065>]\n",
      " [<0.0605,0.9688> <0.149,0.5488> <0.1846,0.8943>]]\n",
      "[[<0.0533,0.9972> <0.2341,0.9712> <0.3341,0.9823>]\n",
      " [<0.0264,0.9974> <0.0651,0.9513> <0.0807,0.9907>]]\n"
     ]
    }
   ],
   "source": [
    "print(mul(t2, n1))\n",
    "print(mul(t2, n2))\n",
    "print(mul(t2, n3))\n",
    "print(mul(t2, n4))"
   ],
   "metadata": {
    "collapsed": false
   }
  },
  {
   "cell_type": "code",
   "execution_count": 21,
   "outputs": [
    {
     "name": "stdout",
     "output_type": "stream",
     "text": [
      "<0.5223,0.8671>\n",
      "[[<0.6057,0.7921> <0.4417,0.9198> <0.5274,0.8632>]\n",
      " [<0.0947,0.9992> <0.6294,0.7664> <0.6791,0.7057>]]\n",
      "<0.5223,0.8671>\n",
      "[<0.2333,0.9882>]\n"
     ]
    }
   ],
   "source": [
    "print(mul(t3, n1))\n",
    "print(mul(t3, n2))\n",
    "print(mul(t3, n3))\n",
    "print(mul(t3, n4))"
   ],
   "metadata": {
    "collapsed": false
   }
  },
  {
   "cell_type": "code",
   "execution_count": 22,
   "outputs": [
    {
     "name": "stdout",
     "output_type": "stream",
     "text": [
      "[<0.1896,0.3771>]\n",
      "[[<0.2232,0.203> <0.1587,0.5646> <0.1916,0.3655>]\n",
      " [<0.0336,0.9946> <0.2332,0.1621> <0.2549,0.0922>]]\n",
      "[<0.1896,0.3771>]\n",
      "[<0.0828,0.9221>]\n"
     ]
    }
   ],
   "source": [
    "print(mul(t4, n1))\n",
    "print(mul(t4, n2))\n",
    "print(mul(t4, n3))\n",
    "print(mul(t4, n4))"
   ],
   "metadata": {
    "collapsed": false
   }
  },
  {
   "cell_type": "markdown",
   "source": [
    "# 除法"
   ],
   "metadata": {
    "collapsed": false
   }
  },
  {
   "cell_type": "code",
   "execution_count": 23,
   "outputs": [
    {
     "name": "stdout",
     "output_type": "stream",
     "text": [
      "<1.0,0.0>\n",
      "[[<0.0,1.0> <0.0,1.0> <0.7849,0.5492>]\n",
      " [<0.0,1.0> <0.0,1.0> <0.0,1.0>]]\n",
      "<1.0,0.0>\n",
      "[<0.0,1.0>]\n"
     ]
    }
   ],
   "source": [
    "print(div(t1, t1))\n",
    "print(div(t1, t2))\n",
    "print(div(t1, t3))\n",
    "print(div(t1, t4))"
   ],
   "metadata": {
    "collapsed": false
   }
  },
  {
   "cell_type": "code",
   "execution_count": 24,
   "outputs": [
    {
     "name": "stdout",
     "output_type": "stream",
     "text": [
      "[[<0.2439,0.8643> <0.0,1.0> <0.0,1.0>]\n",
      " [<0.1209,0.8734> <0.0,1.0> <0.3684,0.5045>]]\n",
      "[[<1.0,0.0> <1.0,0.0> <1.0,0.0>]\n",
      " [<1.0,0.0> <1.0,0.0> <1.0,0.0>]]\n",
      "[[<0.2439,0.8643> <0.0,1.0> <0.0,1.0>]\n",
      " [<0.1209,0.8734> <0.0,1.0> <0.3684,0.5045>]]\n",
      "[[<0.0,1.0> <0.0,1.0> <0.0,1.0>]\n",
      " [<0.3197,0.9157> <0.787,0.1855> <0.0,1.0>]]\n"
     ]
    }
   ],
   "source": [
    "print(div(t2, t1))\n",
    "print(div(t2, t2))\n",
    "print(div(t2, t3))\n",
    "print(div(t2, t4))"
   ],
   "metadata": {
    "collapsed": false
   }
  },
  {
   "cell_type": "code",
   "execution_count": 25,
   "outputs": [
    {
     "name": "stdout",
     "output_type": "stream",
     "text": [
      "<1.0,0.0>\n",
      "[[<0.0,1.0> <0.0,1.0> <0.7849,0.5492>]\n",
      " [<0.0,1.0> <0.0,1.0> <0.0,1.0>]]\n",
      "<1.0,0.0>\n",
      "[<0.0,1.0>]\n"
     ]
    }
   ],
   "source": [
    "print(div(t3, t1))\n",
    "print(div(t3, t2))\n",
    "print(div(t3, t3))\n",
    "print(div(t3, t4))"
   ],
   "metadata": {
    "collapsed": false
   }
  },
  {
   "cell_type": "code",
   "execution_count": 26,
   "outputs": [
    {
     "name": "stdout",
     "output_type": "stream",
     "text": [
      "[<0.0,1.0>]\n",
      "[[<0.0,1.0> <0.0,1.0> <0.0,1.0>]\n",
      " [<0.0,1.0> <0.0,1.0> <0.0,1.0>]]\n",
      "[<0.0,1.0>]\n",
      "[<1.0,0.0>]\n"
     ]
    }
   ],
   "source": [
    "print(div(t4, t1))\n",
    "print(div(t4, t2))\n",
    "print(div(t4, t3))\n",
    "print(div(t4, t4))"
   ],
   "metadata": {
    "collapsed": false
   }
  },
  {
   "cell_type": "code",
   "execution_count": 27,
   "outputs": [
    {
     "name": "stdout",
     "output_type": "stream",
     "text": [
      "<0.8861,0.3316>\n",
      "[[<0.8027,0.509> <0.9542,0.1521> <0.8812,0.3432>]\n",
      " [<1.0,0.0> <0.7783,0.5535> <0.7278,0.6366>]]\n",
      "<0.8861,0.3316>\n",
      "[<1.0,0.0>]\n"
     ]
    }
   ],
   "source": [
    "print(div(t1, n1))\n",
    "print(div(t1, n2))\n",
    "print(div(t1, n3))\n",
    "print(div(t1, n4))"
   ],
   "metadata": {
    "collapsed": false
   }
  },
  {
   "cell_type": "code",
   "execution_count": 28,
   "outputs": [
    {
     "name": "stdout",
     "output_type": "stream",
     "text": [
      "[[<0.2409,0.769> <0.8876,0.0658> <0.9902,0.1891>]\n",
      " [<0.1196,0.7827> <0.2937,0.0096> <0.3626,0.421>]]\n",
      "[[<0.2047,0.8516> <0.9551,0.0096> <0.9891,0.1992>]\n",
      " [<0.6434,0.0> <0.239,0.0829> <0.2705,0.7019>]]\n",
      "[[<0.2409,0.769> <0.8876,0.0658> <0.9902,0.1891>]\n",
      " [<0.1196,0.7827> <0.2937,0.0096> <0.3626,0.421>]]\n",
      "[[<0.538,0.0425> <1.0,0.0> <1.0,0.0>]\n",
      " [<0.2732,0.0526> <0.6427,0.0> <0.763,0.0>]]\n"
     ]
    }
   ],
   "source": [
    "print(div(t2, n1))\n",
    "print(div(t2, n2))\n",
    "print(div(t2, n3))\n",
    "print(div(t2, n4))"
   ],
   "metadata": {
    "collapsed": false
   }
  },
  {
   "cell_type": "code",
   "execution_count": 29,
   "outputs": [
    {
     "name": "stdout",
     "output_type": "stream",
     "text": [
      "<0.8861,0.3316>\n",
      "[[<0.8027,0.509> <0.9542,0.1521> <0.8812,0.3432>]\n",
      " [<1.0,0.0> <0.7783,0.5535> <0.7278,0.6366>]]\n",
      "<0.8861,0.3316>\n",
      "[<1.0,0.0>]\n"
     ]
    }
   ],
   "source": [
    "print(div(t3, n1))\n",
    "print(div(t3, n2))\n",
    "print(div(t3, n3))\n",
    "print(div(t3, n4))"
   ],
   "metadata": {
    "collapsed": false
   }
  },
  {
   "cell_type": "code",
   "execution_count": 30,
   "outputs": [
    {
     "name": "stdout",
     "output_type": "stream",
     "text": [
      "[<0.3722,0.0005>]\n",
      "[[<0.317,0.0099> <0.4419,0.0> <0.3684,0.0007>]\n",
      " [<1.0,0.0> <0.3035,0.0175> <0.2777,0.0455>]]\n",
      "[<0.3722,0.0005>]\n",
      "[<0.7779,0.0>]\n"
     ]
    }
   ],
   "source": [
    "print(div(t4, n1))\n",
    "print(div(t4, n2))\n",
    "print(div(t4, n3))\n",
    "print(div(t4, n4))"
   ],
   "metadata": {
    "collapsed": false
   }
  },
  {
   "cell_type": "markdown",
   "source": [
    "# 幂运算"
   ],
   "metadata": {
    "collapsed": false
   }
  },
  {
   "cell_type": "code",
   "execution_count": 31,
   "outputs": [
    {
     "name": "stdout",
     "output_type": "stream",
     "text": [
      "<0.8812,0.4962>\n",
      "[[<0.8132,0.5768> <0.9286,0.419> <0.8776,0.5011>]\n",
      " [<0.9993,0.0897> <0.7898,0.5999> <0.7341,0.6486>]]\n",
      "<0.8812,0.4962>\n",
      "[<0.9895,0.2209>]\n"
     ]
    }
   ],
   "source": [
    "print(pow(t1, n1))\n",
    "print(pow(t1, n2))\n",
    "print(pow(t1, n3))\n",
    "print(pow(t1, n4))"
   ],
   "metadata": {
    "collapsed": false
   }
  },
  {
   "cell_type": "code",
   "execution_count": 32,
   "outputs": [
    {
     "name": "stdout",
     "output_type": "stream",
     "text": [
      "[[<0.5307,0.7339> <0.882,0.2689> <0.9614,0.3983>]\n",
      " [<0.4124,0.7419> <0.5701,0.134> <0.6155,0.5479>]]\n",
      "[[<0.3549,0.8246> <0.9291,0.2254> <0.9601,0.4024>]\n",
      " [<0.9951,0.1426> <0.3504,0.1649> <0.3054,0.7084>]]\n",
      "[[<0.5307,0.7339> <0.882,0.2689> <0.9614,0.3983>]\n",
      " [<0.4124,0.7419> <0.5701,0.134> <0.6155,0.5479>]]\n",
      "[[<0.9487,0.3448> <0.9896,0.1177> <0.9967,0.1756>]\n",
      " [<0.929,0.3496> <0.9543,0.0585> <0.9604,0.2457>]]\n"
     ]
    }
   ],
   "source": [
    "print(pow(t2, n1))\n",
    "print(pow(t2, n2))\n",
    "print(pow(t2, n3))\n",
    "print(pow(t2, n4))"
   ],
   "metadata": {
    "collapsed": false
   }
  },
  {
   "cell_type": "code",
   "execution_count": 33,
   "outputs": [
    {
     "name": "stdout",
     "output_type": "stream",
     "text": [
      "<0.8812,0.4962>\n",
      "[[<0.8132,0.5768> <0.9286,0.419> <0.8776,0.5011>]\n",
      " [<0.9993,0.0897> <0.7898,0.5999> <0.7341,0.6486>]]\n",
      "<0.8812,0.4962>\n",
      "[<0.9895,0.2209>]\n"
     ]
    }
   ],
   "source": [
    "print(pow(t3, n1))\n",
    "print(pow(t3, n2))\n",
    "print(pow(t3, n3))\n",
    "print(pow(t3, n4))"
   ],
   "metadata": {
    "collapsed": false
   }
  },
  {
   "cell_type": "code",
   "execution_count": 34,
   "outputs": [
    {
     "name": "stdout",
     "output_type": "stream",
     "text": [
      "[<0.6214,0.0471>]\n",
      "[[<0.4594,0.0555> <0.7566,0.0395> <0.612,0.0476>]\n",
      " [<0.9974,0.0083> <0.4115,0.058> <0.3125,0.0635>]]\n",
      "[<0.6214,0.0471>]\n",
      "[<0.9612,0.0206>]\n"
     ]
    }
   ],
   "source": [
    "print(pow(t4, n1))\n",
    "print(pow(t4, n2))\n",
    "print(pow(t4, n3))\n",
    "print(pow(t4, n4))"
   ],
   "metadata": {
    "collapsed": false
   }
  },
  {
   "cell_type": "markdown",
   "source": [
    "# 等于"
   ],
   "metadata": {
    "collapsed": false
   }
  },
  {
   "cell_type": "code",
   "execution_count": 35,
   "outputs": [
    {
     "name": "stdout",
     "output_type": "stream",
     "text": [
      "True\n",
      "[[False False False]\n",
      " [False False False]]\n",
      "True\n",
      "[False]\n"
     ]
    }
   ],
   "source": [
    "print(equal(t1, t1))\n",
    "print(equal(t1, t2))\n",
    "print(equal(t1, t3))\n",
    "print(equal(t1, t4))"
   ],
   "metadata": {
    "collapsed": false
   }
  },
  {
   "cell_type": "code",
   "execution_count": 36,
   "outputs": [
    {
     "name": "stdout",
     "output_type": "stream",
     "text": [
      "[[False False False]\n",
      " [False False False]]\n",
      "[[ True  True  True]\n",
      " [ True  True  True]]\n",
      "[[False False False]\n",
      " [False False False]]\n",
      "[[False False False]\n",
      " [False False False]]\n"
     ]
    }
   ],
   "source": [
    "print(equal(t2, t1))\n",
    "print(equal(t2, t2))\n",
    "print(equal(t2, t3))\n",
    "print(equal(t2, t4))"
   ],
   "metadata": {
    "collapsed": false
   }
  },
  {
   "cell_type": "code",
   "execution_count": 37,
   "outputs": [
    {
     "name": "stdout",
     "output_type": "stream",
     "text": [
      "True\n",
      "[[False False False]\n",
      " [False False False]]\n",
      "True\n",
      "[False]\n"
     ]
    }
   ],
   "source": [
    "print(equal(t3, t1))\n",
    "print(equal(t3, t2))\n",
    "print(equal(t3, t3))\n",
    "print(equal(t3, t4))"
   ],
   "metadata": {
    "collapsed": false
   }
  },
  {
   "cell_type": "code",
   "execution_count": 38,
   "outputs": [
    {
     "name": "stdout",
     "output_type": "stream",
     "text": [
      "[False]\n",
      "[[False False False]\n",
      " [False False False]]\n",
      "[False]\n",
      "[ True]\n"
     ]
    }
   ],
   "source": [
    "print(equal(t4, t1))\n",
    "print(equal(t4, t2))\n",
    "print(equal(t4, t3))\n",
    "print(equal(t4, t4))"
   ],
   "metadata": {
    "collapsed": false
   }
  },
  {
   "cell_type": "markdown",
   "source": [
    "# 不等"
   ],
   "metadata": {
    "collapsed": false
   }
  },
  {
   "cell_type": "code",
   "execution_count": 39,
   "outputs": [
    {
     "name": "stdout",
     "output_type": "stream",
     "text": [
      "False\n",
      "[[ True  True  True]\n",
      " [ True  True  True]]\n",
      "False\n",
      "[ True]\n"
     ]
    }
   ],
   "source": [
    "print(inequal(t1, t1))\n",
    "print(inequal(t1, t2))\n",
    "print(inequal(t1, t3))\n",
    "print(inequal(t1, t4))"
   ],
   "metadata": {
    "collapsed": false
   }
  },
  {
   "cell_type": "code",
   "execution_count": 40,
   "outputs": [
    {
     "name": "stdout",
     "output_type": "stream",
     "text": [
      "[[ True  True  True]\n",
      " [ True  True  True]]\n",
      "[[False False False]\n",
      " [False False False]]\n",
      "[[ True  True  True]\n",
      " [ True  True  True]]\n",
      "[[ True  True  True]\n",
      " [ True  True  True]]\n"
     ]
    }
   ],
   "source": [
    "print(inequal(t2, t1))\n",
    "print(inequal(t2, t2))\n",
    "print(inequal(t2, t3))\n",
    "print(inequal(t2, t4))"
   ],
   "metadata": {
    "collapsed": false
   }
  },
  {
   "cell_type": "code",
   "execution_count": 41,
   "outputs": [
    {
     "name": "stdout",
     "output_type": "stream",
     "text": [
      "False\n",
      "[[ True  True  True]\n",
      " [ True  True  True]]\n",
      "False\n",
      "[ True]\n"
     ]
    }
   ],
   "source": [
    "print(inequal(t3, t1))\n",
    "print(inequal(t3, t2))\n",
    "print(inequal(t3, t3))\n",
    "print(inequal(t3, t4))"
   ],
   "metadata": {
    "collapsed": false
   }
  },
  {
   "cell_type": "code",
   "execution_count": 42,
   "outputs": [
    {
     "name": "stdout",
     "output_type": "stream",
     "text": [
      "[ True]\n",
      "[[ True  True  True]\n",
      " [ True  True  True]]\n",
      "[ True]\n",
      "[False]\n"
     ]
    }
   ],
   "source": [
    "print(inequal(t4, t1))\n",
    "print(inequal(t4, t2))\n",
    "print(inequal(t4, t3))\n",
    "print(inequal(t4, t4))"
   ],
   "metadata": {
    "collapsed": false
   }
  },
  {
   "cell_type": "markdown",
   "source": [
    "# 小于"
   ],
   "metadata": {
    "collapsed": false
   }
  },
  {
   "cell_type": "code",
   "execution_count": 43,
   "outputs": [
    {
     "name": "stdout",
     "output_type": "stream",
     "text": [
      "False\n",
      "[[False  True  True]\n",
      " [False  True  True]]\n",
      "False\n",
      "[ True]\n"
     ]
    }
   ],
   "source": [
    "print(lt(t1, t1))\n",
    "print(lt(t1, t2))\n",
    "print(lt(t1, t3))\n",
    "print(lt(t1, t4))"
   ],
   "metadata": {
    "collapsed": false
   }
  },
  {
   "cell_type": "code",
   "execution_count": 44,
   "outputs": [
    {
     "name": "stdout",
     "output_type": "stream",
     "text": [
      "[[ True False  True]\n",
      " [ True  True  True]]\n",
      "[[False False False]\n",
      " [False False False]]\n",
      "[[ True False  True]\n",
      " [ True  True  True]]\n",
      "[[ True  True  True]\n",
      " [ True  True  True]]\n"
     ]
    }
   ],
   "source": [
    "print(lt(t2, t1))\n",
    "print(lt(t2, t2))\n",
    "print(lt(t2, t3))\n",
    "print(lt(t2, t4))"
   ],
   "metadata": {
    "collapsed": false
   }
  },
  {
   "cell_type": "code",
   "execution_count": 45,
   "outputs": [
    {
     "name": "stdout",
     "output_type": "stream",
     "text": [
      "False\n",
      "[[False  True  True]\n",
      " [False  True  True]]\n",
      "False\n",
      "[ True]\n"
     ]
    }
   ],
   "source": [
    "print(lt(t3, t1))\n",
    "print(lt(t3, t2))\n",
    "print(lt(t3, t3))\n",
    "print(lt(t3, t4))"
   ],
   "metadata": {
    "collapsed": false
   }
  },
  {
   "cell_type": "code",
   "execution_count": 46,
   "outputs": [
    {
     "name": "stdout",
     "output_type": "stream",
     "text": [
      "[ True]\n",
      "[[False  True  True]\n",
      " [False False False]]\n",
      "[ True]\n",
      "[False]\n"
     ]
    }
   ],
   "source": [
    "print(lt(t4, t1))\n",
    "print(lt(t4, t2))\n",
    "print(lt(t4, t3))\n",
    "print(lt(t4, t4))"
   ],
   "metadata": {
    "collapsed": false
   }
  },
  {
   "cell_type": "markdown",
   "source": [
    "# 大于"
   ],
   "metadata": {
    "collapsed": false
   }
  },
  {
   "cell_type": "code",
   "execution_count": 47,
   "outputs": [
    {
     "name": "stdout",
     "output_type": "stream",
     "text": [
      "False\n",
      "[[ True False False]\n",
      " [ True False False]]\n",
      "False\n",
      "[False]\n"
     ]
    }
   ],
   "source": [
    "print(gt(t1, t1))\n",
    "print(gt(t1, t2))\n",
    "print(gt(t1, t3))\n",
    "print(gt(t1, t4))"
   ],
   "metadata": {
    "collapsed": false
   }
  },
  {
   "cell_type": "code",
   "execution_count": 48,
   "outputs": [
    {
     "name": "stdout",
     "output_type": "stream",
     "text": [
      "[[False  True False]\n",
      " [False False False]]\n",
      "[[False False False]\n",
      " [False False False]]\n",
      "[[False  True False]\n",
      " [False False False]]\n",
      "[[False False False]\n",
      " [False False False]]\n"
     ]
    }
   ],
   "source": [
    "print(gt(t2, t1))\n",
    "print(gt(t2, t2))\n",
    "print(gt(t2, t3))\n",
    "print(gt(t2, t4))"
   ],
   "metadata": {
    "collapsed": false
   }
  },
  {
   "cell_type": "code",
   "execution_count": 49,
   "outputs": [
    {
     "name": "stdout",
     "output_type": "stream",
     "text": [
      "False\n",
      "[[ True False False]\n",
      " [ True False False]]\n",
      "False\n",
      "[False]\n"
     ]
    }
   ],
   "source": [
    "print(gt(t3, t1))\n",
    "print(gt(t3, t2))\n",
    "print(gt(t3, t3))\n",
    "print(gt(t3, t4))"
   ],
   "metadata": {
    "collapsed": false
   }
  },
  {
   "cell_type": "code",
   "execution_count": 50,
   "outputs": [
    {
     "name": "stdout",
     "output_type": "stream",
     "text": [
      "[False]\n",
      "[[ True False False]\n",
      " [ True  True  True]]\n",
      "[False]\n",
      "[False]\n"
     ]
    }
   ],
   "source": [
    "print(gt(t4, t1))\n",
    "print(gt(t4, t2))\n",
    "print(gt(t4, t3))\n",
    "print(gt(t4, t4))"
   ],
   "metadata": {
    "collapsed": false
   }
  },
  {
   "cell_type": "markdown",
   "source": [
    "# 小于等于"
   ],
   "metadata": {
    "collapsed": false
   }
  },
  {
   "cell_type": "code",
   "execution_count": 51,
   "outputs": [
    {
     "name": "stdout",
     "output_type": "stream",
     "text": [
      "True\n",
      "[[False False False]\n",
      " [False False False]]\n",
      "True\n",
      "[False]\n"
     ]
    }
   ],
   "source": [
    "print(le(t1, t1))\n",
    "print(le(t1, t2))\n",
    "print(le(t1, t3))\n",
    "print(le(t1, t4))"
   ],
   "metadata": {
    "collapsed": false
   }
  },
  {
   "cell_type": "code",
   "execution_count": 52,
   "outputs": [
    {
     "name": "stdout",
     "output_type": "stream",
     "text": [
      "[[False False False]\n",
      " [False False False]]\n",
      "[[ True  True  True]\n",
      " [ True  True  True]]\n",
      "[[False False False]\n",
      " [False False False]]\n",
      "[[False False False]\n",
      " [False False False]]\n"
     ]
    }
   ],
   "source": [
    "print(le(t2, t1))\n",
    "print(le(t2, t2))\n",
    "print(le(t2, t3))\n",
    "print(le(t2, t4))"
   ],
   "metadata": {
    "collapsed": false
   }
  },
  {
   "cell_type": "code",
   "execution_count": 53,
   "outputs": [
    {
     "name": "stdout",
     "output_type": "stream",
     "text": [
      "True\n",
      "[[False False False]\n",
      " [False False False]]\n",
      "True\n",
      "[False]\n"
     ]
    }
   ],
   "source": [
    "print(le(t3, t1))\n",
    "print(le(t3, t2))\n",
    "print(le(t3, t3))\n",
    "print(le(t3, t4))"
   ],
   "metadata": {
    "collapsed": false
   }
  },
  {
   "cell_type": "code",
   "execution_count": 54,
   "outputs": [
    {
     "name": "stdout",
     "output_type": "stream",
     "text": [
      "[False]\n",
      "[[False False False]\n",
      " [False False False]]\n",
      "[False]\n",
      "[ True]\n"
     ]
    }
   ],
   "source": [
    "print(le(t4, t1))\n",
    "print(le(t4, t2))\n",
    "print(le(t4, t3))\n",
    "print(le(t4, t4))"
   ],
   "metadata": {
    "collapsed": false
   }
  },
  {
   "cell_type": "markdown",
   "source": [
    "# 大于等于"
   ],
   "metadata": {
    "collapsed": false
   }
  },
  {
   "cell_type": "code",
   "execution_count": 55,
   "outputs": [
    {
     "name": "stdout",
     "output_type": "stream",
     "text": [
      "False\n",
      "[[False False False]\n",
      " [False False False]]\n",
      "False\n",
      "[False]\n"
     ]
    }
   ],
   "source": [
    "print(ge(t1, t1))\n",
    "print(ge(t1, t2))\n",
    "print(ge(t1, t3))\n",
    "print(ge(t1, t4))"
   ],
   "metadata": {
    "collapsed": false
   }
  },
  {
   "cell_type": "code",
   "execution_count": 56,
   "outputs": [
    {
     "name": "stdout",
     "output_type": "stream",
     "text": [
      "[[False False False]\n",
      " [False False False]]\n",
      "[[False False False]\n",
      " [False False False]]\n",
      "[[False False False]\n",
      " [False False False]]\n",
      "[[False False False]\n",
      " [False False False]]\n"
     ]
    }
   ],
   "source": [
    "print(ge(t2, t1))\n",
    "print(ge(t2, t2))\n",
    "print(ge(t2, t3))\n",
    "print(ge(t2, t4))"
   ],
   "metadata": {
    "collapsed": false
   }
  },
  {
   "cell_type": "code",
   "execution_count": 57,
   "outputs": [
    {
     "name": "stdout",
     "output_type": "stream",
     "text": [
      "False\n",
      "[[False False False]\n",
      " [False False False]]\n",
      "False\n",
      "[False]\n"
     ]
    }
   ],
   "source": [
    "print(ge(t3, t1))\n",
    "print(ge(t3, t2))\n",
    "print(ge(t3, t3))\n",
    "print(ge(t3, t4))"
   ],
   "metadata": {
    "collapsed": false
   }
  },
  {
   "cell_type": "code",
   "execution_count": 58,
   "outputs": [
    {
     "name": "stdout",
     "output_type": "stream",
     "text": [
      "[False]\n",
      "[[False False False]\n",
      " [False False False]]\n",
      "[False]\n",
      "[False]\n"
     ]
    }
   ],
   "source": [
    "print(ge(t4, t1))\n",
    "print(ge(t4, t2))\n",
    "print(ge(t4, t3))\n",
    "print(ge(t4, t4))"
   ],
   "metadata": {
    "collapsed": false
   }
  },
  {
   "cell_type": "code",
   "execution_count": 58,
   "outputs": [],
   "source": [],
   "metadata": {
    "collapsed": false
   }
  },
  {
   "cell_type": "code",
   "execution_count": 58,
   "outputs": [],
   "source": [],
   "metadata": {
    "collapsed": false
   }
  }
 ],
 "metadata": {
  "kernelspec": {
   "display_name": "Python 3",
   "language": "python",
   "name": "python3"
  },
  "language_info": {
   "codemirror_mode": {
    "name": "ipython",
    "version": 2
   },
   "file_extension": ".py",
   "mimetype": "text/x-python",
   "name": "python",
   "nbconvert_exporter": "python",
   "pygments_lexer": "ipython2",
   "version": "2.7.6"
  }
 },
 "nbformat": 4,
 "nbformat_minor": 0
}
