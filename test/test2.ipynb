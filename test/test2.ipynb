{
 "cells": [
  {
   "cell_type": "code",
   "execution_count": null,
   "outputs": [],
   "source": [
    "import numpy as np\n",
    "import mohupy as mp\n",
    "from mohupy.core.operation import add,sub,mul,div,pow,matmul,equal,inequal,lt,gt,le,ge"
   ],
   "metadata": {
    "collapsed": false
   }
  },
  {
   "cell_type": "code",
   "execution_count": null,
   "outputs": [],
   "source": [
    "n1 = np.random.rand()               # 数\n",
    "n2 = np.random.rand(2,3)            # 数集合\n",
    "n3 = np.array(n1)                   # 数向量\n",
    "n4 = np.random.rand(1,)             # 数集合 2\n",
    "\n",
    "\n",
    "t1 = mp.random.rand(3, 'qrofn')         # 模糊数\n",
    "t2 = mp.random.rand(3, 'qrofn', 2,3)    # 模糊集合\n",
    "t3 = mp.fuzzset(t1)                 # 模糊向量\n",
    "t4 = mp.random.rand(3, 'qrofn', 1)    # 模糊集合 2"
   ],
   "metadata": {
    "collapsed": false
   }
  },
  {
   "cell_type": "markdown",
   "source": [
    "# 加法"
   ],
   "metadata": {
    "collapsed": false
   }
  },
  {
   "cell_type": "code",
   "execution_count": null,
   "outputs": [],
   "source": [
    "print(add(t1, t1))\n",
    "print(add(t1, t2))\n",
    "print(add(t1, t3))\n",
    "print(add(t1, t4))"
   ],
   "metadata": {
    "collapsed": false
   }
  },
  {
   "cell_type": "code",
   "execution_count": null,
   "outputs": [],
   "source": [
    "print(add(t2, t1))\n",
    "print(add(t2, t2))\n",
    "print(add(t2, t3))\n",
    "print(add(t2, t4))"
   ],
   "metadata": {
    "collapsed": false
   }
  },
  {
   "cell_type": "code",
   "execution_count": null,
   "outputs": [],
   "source": [
    "print(add(t3, t1))\n",
    "print(add(t3, t2))\n",
    "print(add(t3, t3))\n",
    "print(add(t3, t4))"
   ],
   "metadata": {
    "collapsed": false
   }
  },
  {
   "cell_type": "code",
   "execution_count": null,
   "outputs": [],
   "source": [
    "print(add(t4, t1))\n",
    "print(add(t4, t2))\n",
    "print(add(t4, t3))\n",
    "print(add(t4, t4))"
   ],
   "metadata": {
    "collapsed": false
   }
  },
  {
   "cell_type": "markdown",
   "source": [
    "# 减法"
   ],
   "metadata": {
    "collapsed": false
   }
  },
  {
   "cell_type": "code",
   "execution_count": null,
   "outputs": [],
   "source": [
    "print(sub(t1, t1))\n",
    "print(sub(t1, t2))\n",
    "print(sub(t1, t3))\n",
    "print(sub(t1, t4))"
   ],
   "metadata": {
    "collapsed": false
   }
  },
  {
   "cell_type": "code",
   "execution_count": null,
   "outputs": [],
   "source": [
    "print(sub(t2, t1))\n",
    "print(sub(t2, t2))\n",
    "print(sub(t2, t3))\n",
    "print(sub(t2, t4))"
   ],
   "metadata": {
    "collapsed": false
   }
  },
  {
   "cell_type": "code",
   "execution_count": null,
   "outputs": [],
   "source": [
    "print(sub(t3, t1))\n",
    "print(sub(t3, t2))\n",
    "print(sub(t3, t3))\n",
    "print(sub(t3, t4))"
   ],
   "metadata": {
    "collapsed": false
   }
  },
  {
   "cell_type": "code",
   "execution_count": null,
   "outputs": [],
   "source": [
    "print(sub(t4, t1))\n",
    "print(sub(t4, t2))\n",
    "print(sub(t4, t3))\n",
    "print(sub(t4, t4))"
   ],
   "metadata": {
    "collapsed": false
   }
  },
  {
   "cell_type": "markdown",
   "source": [
    "# 乘法"
   ],
   "metadata": {
    "collapsed": false
   }
  },
  {
   "cell_type": "code",
   "execution_count": null,
   "outputs": [],
   "source": [
    "print(mul(n1, t1))\n",
    "print(mul(n1, t2))\n",
    "print(mul(n1, t3))\n",
    "print(mul(n1, t4))"
   ],
   "metadata": {
    "collapsed": false
   }
  },
  {
   "cell_type": "code",
   "execution_count": null,
   "outputs": [],
   "source": [
    "print(mul(n2, t1))\n",
    "print(mul(n2, t2))\n",
    "print(mul(n2, t3))\n",
    "print(mul(n2, t4))"
   ],
   "metadata": {
    "collapsed": false
   }
  },
  {
   "cell_type": "code",
   "execution_count": null,
   "outputs": [],
   "source": [
    "print(mul(n3, t1))\n",
    "print(mul(n3, t2))\n",
    "print(mul(n3, t3))\n",
    "print(mul(n3, t4))"
   ],
   "metadata": {
    "collapsed": false
   }
  },
  {
   "cell_type": "code",
   "execution_count": null,
   "outputs": [],
   "source": [
    "print(mul(n4, t1))\n",
    "print(mul(n4, t2))\n",
    "print(mul(n4, t3))\n",
    "print(mul(n4, t4))"
   ],
   "metadata": {
    "collapsed": false
   }
  },
  {
   "cell_type": "code",
   "execution_count": null,
   "outputs": [],
   "source": [
    "print(mul(t1, t1))\n",
    "print(mul(t1, t2))\n",
    "print(mul(t1, t3))\n",
    "print(mul(t1, t4))"
   ],
   "metadata": {
    "collapsed": false
   }
  },
  {
   "cell_type": "code",
   "execution_count": null,
   "outputs": [],
   "source": [
    "print(mul(t2, t1))\n",
    "print(mul(t2, t2))\n",
    "print(mul(t2, t3))\n",
    "print(mul(t2, t4))"
   ],
   "metadata": {
    "collapsed": false
   }
  },
  {
   "cell_type": "code",
   "execution_count": null,
   "outputs": [],
   "source": [
    "print(mul(t3, t1))\n",
    "print(mul(t3, t2))\n",
    "print(mul(t3, t3))\n",
    "print(mul(t3, t4))"
   ],
   "metadata": {
    "collapsed": false
   }
  },
  {
   "cell_type": "code",
   "execution_count": null,
   "outputs": [],
   "source": [
    "print(mul(t4, t1))\n",
    "print(mul(t4, t2))\n",
    "print(mul(t4, t3))\n",
    "print(mul(t4, t4))"
   ],
   "metadata": {
    "collapsed": false
   }
  },
  {
   "cell_type": "code",
   "execution_count": null,
   "outputs": [],
   "source": [
    "print(mul(t1, n1))\n",
    "print(mul(t1, n2))\n",
    "print(mul(t1, n3))\n",
    "print(mul(t1, n4))"
   ],
   "metadata": {
    "collapsed": false
   }
  },
  {
   "cell_type": "code",
   "execution_count": null,
   "outputs": [],
   "source": [
    "print(mul(t2, n1))\n",
    "print(mul(t2, n2))\n",
    "print(mul(t2, n3))\n",
    "print(mul(t2, n4))"
   ],
   "metadata": {
    "collapsed": false
   }
  },
  {
   "cell_type": "code",
   "execution_count": null,
   "outputs": [],
   "source": [
    "print(mul(t3, n1))\n",
    "print(mul(t3, n2))\n",
    "print(mul(t3, n3))\n",
    "print(mul(t3, n4))"
   ],
   "metadata": {
    "collapsed": false
   }
  },
  {
   "cell_type": "code",
   "execution_count": null,
   "outputs": [],
   "source": [
    "print(mul(t4, n1))\n",
    "print(mul(t4, n2))\n",
    "print(mul(t4, n3))\n",
    "print(mul(t4, n4))"
   ],
   "metadata": {
    "collapsed": false
   }
  },
  {
   "cell_type": "markdown",
   "source": [
    "# 除法"
   ],
   "metadata": {
    "collapsed": false
   }
  },
  {
   "cell_type": "code",
   "execution_count": null,
   "outputs": [],
   "source": [
    "print(div(t1, t1))\n",
    "print(div(t1, t2))\n",
    "print(div(t1, t3))\n",
    "print(div(t1, t4))"
   ],
   "metadata": {
    "collapsed": false
   }
  },
  {
   "cell_type": "code",
   "execution_count": null,
   "outputs": [],
   "source": [
    "print(div(t2, t1))\n",
    "print(div(t2, t2))\n",
    "print(div(t2, t3))\n",
    "print(div(t2, t4))"
   ],
   "metadata": {
    "collapsed": false
   }
  },
  {
   "cell_type": "code",
   "execution_count": null,
   "outputs": [],
   "source": [
    "print(div(t3, t1))\n",
    "print(div(t3, t2))\n",
    "print(div(t3, t3))\n",
    "print(div(t3, t4))"
   ],
   "metadata": {
    "collapsed": false
   }
  },
  {
   "cell_type": "code",
   "execution_count": null,
   "outputs": [],
   "source": [
    "print(div(t4, t1))\n",
    "print(div(t4, t2))\n",
    "print(div(t4, t3))\n",
    "print(div(t4, t4))"
   ],
   "metadata": {
    "collapsed": false
   }
  },
  {
   "cell_type": "code",
   "execution_count": null,
   "outputs": [],
   "source": [
    "print(div(t1, n1))\n",
    "print(div(t1, n2))\n",
    "print(div(t1, n3))\n",
    "print(div(t1, n4))"
   ],
   "metadata": {
    "collapsed": false
   }
  },
  {
   "cell_type": "code",
   "execution_count": null,
   "outputs": [],
   "source": [
    "print(div(t2, n1))\n",
    "print(div(t2, n2))\n",
    "print(div(t2, n3))\n",
    "print(div(t2, n4))"
   ],
   "metadata": {
    "collapsed": false
   }
  },
  {
   "cell_type": "code",
   "execution_count": null,
   "outputs": [],
   "source": [
    "print(div(t3, n1))\n",
    "print(div(t3, n2))\n",
    "print(div(t3, n3))\n",
    "print(div(t3, n4))"
   ],
   "metadata": {
    "collapsed": false
   }
  },
  {
   "cell_type": "code",
   "execution_count": null,
   "outputs": [],
   "source": [
    "print(div(t4, n1))\n",
    "print(div(t4, n2))\n",
    "print(div(t4, n3))\n",
    "print(div(t4, n4))"
   ],
   "metadata": {
    "collapsed": false
   }
  },
  {
   "cell_type": "markdown",
   "source": [
    "# 幂运算"
   ],
   "metadata": {
    "collapsed": false
   }
  },
  {
   "cell_type": "code",
   "execution_count": null,
   "outputs": [],
   "source": [
    "print(pow(t1, n1))\n",
    "print(pow(t1, n2))\n",
    "print(pow(t1, n3))\n",
    "print(pow(t1, n4))"
   ],
   "metadata": {
    "collapsed": false
   }
  },
  {
   "cell_type": "code",
   "execution_count": null,
   "outputs": [],
   "source": [
    "print(pow(t2, n1))\n",
    "print(pow(t2, n2))\n",
    "print(pow(t2, n3))\n",
    "print(pow(t2, n4))"
   ],
   "metadata": {
    "collapsed": false
   }
  },
  {
   "cell_type": "code",
   "execution_count": null,
   "outputs": [],
   "source": [
    "print(pow(t3, n1))\n",
    "print(pow(t3, n2))\n",
    "print(pow(t3, n3))\n",
    "print(pow(t3, n4))"
   ],
   "metadata": {
    "collapsed": false
   }
  },
  {
   "cell_type": "code",
   "execution_count": null,
   "outputs": [],
   "source": [
    "print(pow(t4, n1))\n",
    "print(pow(t4, n2))\n",
    "print(pow(t4, n3))\n",
    "print(pow(t4, n4))"
   ],
   "metadata": {
    "collapsed": false
   }
  },
  {
   "cell_type": "markdown",
   "source": [
    "# 等于"
   ],
   "metadata": {
    "collapsed": false
   }
  },
  {
   "cell_type": "code",
   "execution_count": null,
   "outputs": [],
   "source": [
    "print(equal(t1, t1))\n",
    "print(equal(t1, t2))\n",
    "print(equal(t1, t3))\n",
    "print(equal(t1, t4))"
   ],
   "metadata": {
    "collapsed": false
   }
  },
  {
   "cell_type": "code",
   "execution_count": null,
   "outputs": [],
   "source": [
    "print(equal(t2, t1))\n",
    "print(equal(t2, t2))\n",
    "print(equal(t2, t3))\n",
    "print(equal(t2, t4))"
   ],
   "metadata": {
    "collapsed": false
   }
  },
  {
   "cell_type": "code",
   "execution_count": null,
   "outputs": [],
   "source": [
    "print(equal(t3, t1))\n",
    "print(equal(t3, t2))\n",
    "print(equal(t3, t3))\n",
    "print(equal(t3, t4))"
   ],
   "metadata": {
    "collapsed": false
   }
  },
  {
   "cell_type": "code",
   "execution_count": null,
   "outputs": [],
   "source": [
    "print(equal(t4, t1))\n",
    "print(equal(t4, t2))\n",
    "print(equal(t4, t3))\n",
    "print(equal(t4, t4))"
   ],
   "metadata": {
    "collapsed": false
   }
  },
  {
   "cell_type": "markdown",
   "source": [
    "# 不等"
   ],
   "metadata": {
    "collapsed": false
   }
  },
  {
   "cell_type": "code",
   "execution_count": null,
   "outputs": [],
   "source": [
    "print(inequal(t1, t1))\n",
    "print(inequal(t1, t2))\n",
    "print(inequal(t1, t3))\n",
    "print(inequal(t1, t4))"
   ],
   "metadata": {
    "collapsed": false
   }
  },
  {
   "cell_type": "code",
   "execution_count": null,
   "outputs": [],
   "source": [
    "print(inequal(t2, t1))\n",
    "print(inequal(t2, t2))\n",
    "print(inequal(t2, t3))\n",
    "print(inequal(t2, t4))"
   ],
   "metadata": {
    "collapsed": false
   }
  },
  {
   "cell_type": "code",
   "execution_count": null,
   "outputs": [],
   "source": [
    "print(inequal(t3, t1))\n",
    "print(inequal(t3, t2))\n",
    "print(inequal(t3, t3))\n",
    "print(inequal(t3, t4))"
   ],
   "metadata": {
    "collapsed": false
   }
  },
  {
   "cell_type": "code",
   "execution_count": null,
   "outputs": [],
   "source": [
    "print(inequal(t4, t1))\n",
    "print(inequal(t4, t2))\n",
    "print(inequal(t4, t3))\n",
    "print(inequal(t4, t4))"
   ],
   "metadata": {
    "collapsed": false
   }
  },
  {
   "cell_type": "markdown",
   "source": [
    "# 小于"
   ],
   "metadata": {
    "collapsed": false
   }
  },
  {
   "cell_type": "code",
   "execution_count": null,
   "outputs": [],
   "source": [
    "print(lt(t1, t1))\n",
    "print(lt(t1, t2))\n",
    "print(lt(t1, t3))\n",
    "print(lt(t1, t4))"
   ],
   "metadata": {
    "collapsed": false
   }
  },
  {
   "cell_type": "code",
   "execution_count": null,
   "outputs": [],
   "source": [
    "print(lt(t2, t1))\n",
    "print(lt(t2, t2))\n",
    "print(lt(t2, t3))\n",
    "print(lt(t2, t4))"
   ],
   "metadata": {
    "collapsed": false
   }
  },
  {
   "cell_type": "code",
   "execution_count": null,
   "outputs": [],
   "source": [
    "print(lt(t3, t1))\n",
    "print(lt(t3, t2))\n",
    "print(lt(t3, t3))\n",
    "print(lt(t3, t4))"
   ],
   "metadata": {
    "collapsed": false
   }
  },
  {
   "cell_type": "code",
   "execution_count": null,
   "outputs": [],
   "source": [
    "print(lt(t4, t1))\n",
    "print(lt(t4, t2))\n",
    "print(lt(t4, t3))\n",
    "print(lt(t4, t4))"
   ],
   "metadata": {
    "collapsed": false
   }
  },
  {
   "cell_type": "markdown",
   "source": [
    "# 大于"
   ],
   "metadata": {
    "collapsed": false
   }
  },
  {
   "cell_type": "code",
   "execution_count": null,
   "outputs": [],
   "source": [
    "print(gt(t1, t1))\n",
    "print(gt(t1, t2))\n",
    "print(gt(t1, t3))\n",
    "print(gt(t1, t4))"
   ],
   "metadata": {
    "collapsed": false
   }
  },
  {
   "cell_type": "code",
   "execution_count": null,
   "outputs": [],
   "source": [
    "print(gt(t2, t1))\n",
    "print(gt(t2, t2))\n",
    "print(gt(t2, t3))\n",
    "print(gt(t2, t4))"
   ],
   "metadata": {
    "collapsed": false
   }
  },
  {
   "cell_type": "code",
   "execution_count": null,
   "outputs": [],
   "source": [
    "print(gt(t3, t1))\n",
    "print(gt(t3, t2))\n",
    "print(gt(t3, t3))\n",
    "print(gt(t3, t4))"
   ],
   "metadata": {
    "collapsed": false
   }
  },
  {
   "cell_type": "code",
   "execution_count": null,
   "outputs": [],
   "source": [
    "print(gt(t4, t1))\n",
    "print(gt(t4, t2))\n",
    "print(gt(t4, t3))\n",
    "print(gt(t4, t4))"
   ],
   "metadata": {
    "collapsed": false
   }
  },
  {
   "cell_type": "markdown",
   "source": [
    "# 小于等于"
   ],
   "metadata": {
    "collapsed": false
   }
  },
  {
   "cell_type": "code",
   "execution_count": null,
   "outputs": [],
   "source": [
    "print(le(t1, t1))\n",
    "print(le(t1, t2))\n",
    "print(le(t1, t3))\n",
    "print(le(t1, t4))"
   ],
   "metadata": {
    "collapsed": false
   }
  },
  {
   "cell_type": "code",
   "execution_count": null,
   "outputs": [],
   "source": [
    "print(le(t2, t1))\n",
    "print(le(t2, t2))\n",
    "print(le(t2, t3))\n",
    "print(le(t2, t4))"
   ],
   "metadata": {
    "collapsed": false
   }
  },
  {
   "cell_type": "code",
   "execution_count": null,
   "outputs": [],
   "source": [
    "print(le(t3, t1))\n",
    "print(le(t3, t2))\n",
    "print(le(t3, t3))\n",
    "print(le(t3, t4))"
   ],
   "metadata": {
    "collapsed": false
   }
  },
  {
   "cell_type": "code",
   "execution_count": null,
   "outputs": [],
   "source": [
    "print(le(t4, t1))\n",
    "print(le(t4, t2))\n",
    "print(le(t4, t3))\n",
    "print(le(t4, t4))"
   ],
   "metadata": {
    "collapsed": false
   }
  },
  {
   "cell_type": "markdown",
   "source": [
    "# 大于等于"
   ],
   "metadata": {
    "collapsed": false
   }
  },
  {
   "cell_type": "code",
   "execution_count": null,
   "outputs": [],
   "source": [
    "print(ge(t1, t1))\n",
    "print(ge(t1, t2))\n",
    "print(ge(t1, t3))\n",
    "print(ge(t1, t4))"
   ],
   "metadata": {
    "collapsed": false
   }
  },
  {
   "cell_type": "code",
   "execution_count": null,
   "outputs": [],
   "source": [
    "print(ge(t2, t1))\n",
    "print(ge(t2, t2))\n",
    "print(ge(t2, t3))\n",
    "print(ge(t2, t4))"
   ],
   "metadata": {
    "collapsed": false
   }
  },
  {
   "cell_type": "code",
   "execution_count": null,
   "outputs": [],
   "source": [
    "print(ge(t3, t1))\n",
    "print(ge(t3, t2))\n",
    "print(ge(t3, t3))\n",
    "print(ge(t3, t4))"
   ],
   "metadata": {
    "collapsed": false
   }
  },
  {
   "cell_type": "code",
   "execution_count": null,
   "outputs": [],
   "source": [
    "print(ge(t4, t1))\n",
    "print(ge(t4, t2))\n",
    "print(ge(t4, t3))\n",
    "print(ge(t4, t4))"
   ],
   "metadata": {
    "collapsed": false
   }
  },
  {
   "cell_type": "code",
   "execution_count": null,
   "outputs": [],
   "source": [],
   "metadata": {
    "collapsed": false
   }
  },
  {
   "cell_type": "code",
   "execution_count": null,
   "outputs": [],
   "source": [],
   "metadata": {
    "collapsed": false
   }
  }
 ],
 "metadata": {
  "kernelspec": {
   "display_name": "Python 3",
   "language": "python",
   "name": "python3"
  },
  "language_info": {
   "codemirror_mode": {
    "name": "ipython",
    "version": 2
   },
   "file_extension": ".py",
   "mimetype": "text/x-python",
   "name": "python",
   "nbconvert_exporter": "python",
   "pygments_lexer": "ipython2",
   "version": "2.7.6"
  }
 },
 "nbformat": 4,
 "nbformat_minor": 0
}
