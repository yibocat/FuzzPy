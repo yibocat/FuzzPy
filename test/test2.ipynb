{
 "cells": [
  {
   "cell_type": "code",
   "execution_count": 1,
   "outputs": [],
   "source": [
    "import numpy as np\n",
    "import mohupy as mp\n",
    "from mohupy.core.operation import add,sub,mul,div,pow,matmul,equal,inequal,lt,gt,le,ge"
   ],
   "metadata": {
    "collapsed": false
   }
  },
  {
   "cell_type": "code",
   "execution_count": 2,
   "outputs": [],
   "source": [
    "n1 = np.random.rand()               # 数\n",
    "n2 = np.random.rand(2,3)            # 数集合\n",
    "n3 = np.array(n1)                   # 数向量\n",
    "n4 = np.random.rand(1,)             # 数集合 2\n",
    "\n",
    "\n",
    "t1 = mp.random.rand(3, 'qrofn')         # 模糊数\n",
    "t2 = mp.random.rand(3, 'qrofn', 2,3)    # 模糊集合\n",
    "t3 = mp.fuzzset(t1)                 # 模糊向量\n",
    "t4 = mp.random.rand(3, 'qrofn', 1)    # 模糊集合 2"
   ],
   "metadata": {
    "collapsed": false
   }
  },
  {
   "cell_type": "markdown",
   "source": [
    "# 加法"
   ],
   "metadata": {
    "collapsed": false
   }
  },
  {
   "cell_type": "code",
   "execution_count": 3,
   "outputs": [
    {
     "name": "stdout",
     "output_type": "stream",
     "text": [
      "<0.77,0.0028>\n",
      "[[<0.777,0.0039> <0.6405,0.0284> <0.6447,0.0038>]\n",
      " [<0.6415,0.0344> <0.8392,0.0151> <0.6414,0.0156>]]\n",
      "<0.77,0.0028>\n",
      "[<0.7708,0.0262>]\n"
     ]
    }
   ],
   "source": [
    "print(add(t1, t1))\n",
    "print(add(t1, t2))\n",
    "print(add(t1, t3))\n",
    "print(add(t1, t4))"
   ],
   "metadata": {
    "collapsed": false
   }
  },
  {
   "cell_type": "code",
   "execution_count": 4,
   "outputs": [
    {
     "name": "stdout",
     "output_type": "stream",
     "text": [
      "[[<0.777,0.0039> <0.6405,0.0284> <0.6447,0.0038>]\n",
      " [<0.6415,0.0344> <0.8392,0.0151> <0.6414,0.0156>]]\n",
      "[[<0.7837,0.0054> <0.0173,0.2896> <0.242,0.0053>]\n",
      " [<0.1476,0.4244> <0.8846,0.0818> <0.1455,0.0871>]]\n",
      "[[<0.777,0.0039> <0.6405,0.0284> <0.6447,0.0038>]\n",
      " [<0.6415,0.0344> <0.8392,0.0151> <0.6414,0.0156>]]\n",
      "[[<0.7777,0.0366> <0.6421,0.2672> <0.6463,0.036>]\n",
      " [<0.643,0.3235> <0.8397,0.142> <0.643,0.1465>]]\n"
     ]
    }
   ],
   "source": [
    "print(add(t2, t1))\n",
    "print(add(t2, t2))\n",
    "print(add(t2, t3))\n",
    "print(add(t2, t4))"
   ],
   "metadata": {
    "collapsed": false
   }
  },
  {
   "cell_type": "code",
   "execution_count": 5,
   "outputs": [
    {
     "name": "stdout",
     "output_type": "stream",
     "text": [
      "<0.77,0.0028>\n",
      "[[<0.777,0.0039> <0.6405,0.0284> <0.6447,0.0038>]\n",
      " [<0.6415,0.0344> <0.8392,0.0151> <0.6414,0.0156>]]\n",
      "<0.77,0.0028>\n",
      "[<0.7708,0.0262>]\n"
     ]
    }
   ],
   "source": [
    "print(add(t3, t1))\n",
    "print(add(t3, t2))\n",
    "print(add(t3, t3))\n",
    "print(add(t3, t4))"
   ],
   "metadata": {
    "collapsed": false
   }
  },
  {
   "cell_type": "code",
   "execution_count": 6,
   "outputs": [
    {
     "name": "stdout",
     "output_type": "stream",
     "text": [
      "[<0.7708,0.0262>]\n",
      "[[<0.7777,0.0366> <0.6421,0.2672> <0.6463,0.036>]\n",
      " [<0.643,0.3235> <0.8397,0.142> <0.643,0.1465>]]\n",
      "[<0.7708,0.0262>]\n",
      "[<0.7716,0.2465>]\n"
     ]
    }
   ],
   "source": [
    "print(add(t4, t1))\n",
    "print(add(t4, t2))\n",
    "print(add(t4, t3))\n",
    "print(add(t4, t4))"
   ],
   "metadata": {
    "collapsed": false
   }
  },
  {
   "cell_type": "markdown",
   "source": [
    "# 减法"
   ],
   "metadata": {
    "collapsed": false
   }
  },
  {
   "cell_type": "code",
   "execution_count": 7,
   "outputs": [
    {
     "name": "stdout",
     "output_type": "stream",
     "text": [
      "<0.0,1.0>\n",
      "[[<0.0,1.0> <0.6405,0.0981> <0.6362,0.7283>]\n",
      " [<0.6395,0.081> <0.0,1.0> <0.6396,0.1789>]]\n",
      "<0.0,1.0>\n",
      "[<0.0,1.0>]\n"
     ]
    }
   ],
   "source": [
    "print(sub(t1, t1))\n",
    "print(sub(t1, t2))\n",
    "print(sub(t1, t3))\n",
    "print(sub(t1, t4))"
   ],
   "metadata": {
    "collapsed": false
   }
  },
  {
   "cell_type": "code",
   "execution_count": 8,
   "outputs": [
    {
     "name": "stdout",
     "output_type": "stream",
     "text": [
      "[[<0.0,1.0> <0.0,1.0> <0.0,1.0>]\n",
      " [<0.0,1.0> <0.0,1.0> <0.0,1.0>]]\n",
      "[[<0.0,1.0> <0.0,1.0> <0.0,1.0>]\n",
      " [<0.0,1.0> <0.0,1.0> <0.0,1.0>]]\n",
      "[[<0.0,1.0> <0.0,1.0> <0.0,1.0>]\n",
      " [<0.0,1.0> <0.0,1.0> <0.0,1.0>]]\n",
      "[[<0.2737,0.1486> <0.0,1.0> <0.0,1.0>]\n",
      " [<0.0,1.0> <0.6261,0.576> <0.0,1.0>]]\n"
     ]
    }
   ],
   "source": [
    "print(sub(t2, t1))\n",
    "print(sub(t2, t2))\n",
    "print(sub(t2, t3))\n",
    "print(sub(t2, t4))"
   ],
   "metadata": {
    "collapsed": false
   }
  },
  {
   "cell_type": "code",
   "execution_count": 9,
   "outputs": [
    {
     "name": "stdout",
     "output_type": "stream",
     "text": [
      "<0.0,1.0>\n",
      "[[<0.0,1.0> <0.6405,0.0981> <0.6362,0.7283>]\n",
      " [<0.6395,0.081> <0.0,1.0> <0.6396,0.1789>]]\n",
      "<0.0,1.0>\n",
      "[<0.0,1.0>]\n"
     ]
    }
   ],
   "source": [
    "print(sub(t3, t1))\n",
    "print(sub(t3, t2))\n",
    "print(sub(t3, t3))\n",
    "print(sub(t3, t4))"
   ],
   "metadata": {
    "collapsed": false
   }
  },
  {
   "cell_type": "code",
   "execution_count": 10,
   "outputs": [
    {
     "name": "stdout",
     "output_type": "stream",
     "text": [
      "[<0.0,1.0>]\n",
      "[[<0.0,1.0> <0.0,1.0> <0.0,1.0>]\n",
      " [<0.6411,0.7622> <0.0,1.0> <0.0,1.0>]]\n",
      "[<0.0,1.0>]\n",
      "[<0.0,1.0>]\n"
     ]
    }
   ],
   "source": [
    "print(sub(t4, t1))\n",
    "print(sub(t4, t2))\n",
    "print(sub(t4, t3))\n",
    "print(sub(t4, t4))"
   ],
   "metadata": {
    "collapsed": false
   }
  },
  {
   "cell_type": "markdown",
   "source": [
    "# 乘法"
   ],
   "metadata": {
    "collapsed": false
   }
  },
  {
   "cell_type": "code",
   "execution_count": 11,
   "outputs": [
    {
     "name": "stdout",
     "output_type": "stream",
     "text": [
      "<0.5638,0.1488>\n",
      "[[<0.5764,0.1848> <0.0119,0.6694> <0.1665,0.1827>]\n",
      " [<0.1014,0.7576> <0.682,0.4445> <0.1,0.4535>]]\n",
      "<0.5638,0.1488>\n",
      "[<0.5652,0.6354>]\n"
     ]
    }
   ],
   "source": [
    "print(mul(n1, t1))\n",
    "print(mul(n1, t2))\n",
    "print(mul(n1, t3))\n",
    "print(mul(n1, t4))"
   ],
   "metadata": {
    "collapsed": false
   }
  },
  {
   "cell_type": "code",
   "execution_count": 12,
   "outputs": [
    {
     "name": "stdout",
     "output_type": "stream",
     "text": [
      "[[<0.274,0.8182> <0.5972,0.0992> <0.5069,0.2602>]\n",
      " [<0.4498,0.3984> <0.626,0.0662> <0.58,0.1232>]]\n",
      "[[<0.2808,0.8371> <0.0126,0.6146> <0.1483,0.3008>]\n",
      " [<0.0796,0.8745> <0.7486,0.3149> <0.1032,0.4194>]]\n",
      "[[<0.274,0.8182> <0.5972,0.0992> <0.5069,0.2602>]\n",
      " [<0.4498,0.3984> <0.626,0.0662> <0.58,0.1232>]]\n",
      "[[<0.2748,0.9534> <0.5987,0.577> <0.5082,0.7258>]\n",
      " [<0.451,0.8033> <0.6275,0.524> <0.5814,0.6075>]]\n"
     ]
    }
   ],
   "source": [
    "print(mul(n2, t1))\n",
    "print(mul(n2, t2))\n",
    "print(mul(n2, t3))\n",
    "print(mul(n2, t4))"
   ],
   "metadata": {
    "collapsed": false
   }
  },
  {
   "cell_type": "code",
   "execution_count": 13,
   "outputs": [
    {
     "name": "stdout",
     "output_type": "stream",
     "text": [
      "<0.5638,0.1488>\n",
      "[[<0.5764,0.1848> <0.0119,0.6694> <0.1665,0.1827>]\n",
      " [<0.1014,0.7576> <0.682,0.4445> <0.1,0.4535>]]\n",
      "<0.5638,0.1488>\n",
      "[<0.5652,0.6354>]\n"
     ]
    }
   ],
   "source": [
    "print(mul(n3, t1))\n",
    "print(mul(n3, t2))\n",
    "print(mul(n3, t3))\n",
    "print(mul(n3, t4))"
   ],
   "metadata": {
    "collapsed": false
   }
  },
  {
   "cell_type": "code",
   "execution_count": 14,
   "outputs": [
    {
     "name": "stdout",
     "output_type": "stream",
     "text": [
      "[<0.6073,0.0866>]\n",
      "[[<0.6205,0.1144> <0.0129,0.5973> <0.1809,0.1127>]\n",
      " [<0.1102,0.7002> <0.729,0.353> <0.1087,0.3623>]]\n",
      "[<0.6073,0.0866>]\n",
      "[<0.6088,0.5586>]\n"
     ]
    }
   ],
   "source": [
    "print(mul(n4, t1))\n",
    "print(mul(n4, t2))\n",
    "print(mul(n4, t3))\n",
    "print(mul(n4, t4))"
   ],
   "metadata": {
    "collapsed": false
   }
  },
  {
   "cell_type": "code",
   "execution_count": 15,
   "outputs": [
    {
     "name": "stdout",
     "output_type": "stream",
     "text": [
      "<0.4102,0.0665>\n",
      "[[<0.4189,0.0819> <0.0088,0.5383> <0.1232,0.0808>]\n",
      " [<0.075,0.6515> <0.4891,0.2866> <0.074,0.2956>]]\n",
      "<0.4102,0.0665>\n",
      "[<0.4112,0.4967>]\n"
     ]
    }
   ],
   "source": [
    "print(mul(t1, t1))\n",
    "print(mul(t1, t2))\n",
    "print(mul(t1, t3))\n",
    "print(mul(t1, t4))"
   ],
   "metadata": {
    "collapsed": false
   }
  },
  {
   "cell_type": "code",
   "execution_count": 16,
   "outputs": [
    {
     "name": "stdout",
     "output_type": "stream",
     "text": [
      "[[<0.4189,0.0819> <0.0088,0.5383> <0.1232,0.0808>]\n",
      " [<0.075,0.6515> <0.4891,0.2866> <0.074,0.2956>]]\n",
      "[[<0.4278,0.0929> <0.0002,0.6599> <0.037,0.0913>]\n",
      " [<0.0137,0.7811> <0.583,0.3589> <0.0133,0.3702>]]\n",
      "[[<0.4189,0.0819> <0.0088,0.5383> <0.1232,0.0808>]\n",
      " [<0.075,0.6515> <0.4891,0.2866> <0.074,0.2956>]]\n",
      "[[<0.4199,0.497> <0.0088,0.6376> <0.1235,0.497>]\n",
      " [<0.0752,0.7147> <0.4903,0.5229> <0.0742,0.5253>]]\n"
     ]
    }
   ],
   "source": [
    "print(mul(t2, t1))\n",
    "print(mul(t2, t2))\n",
    "print(mul(t2, t3))\n",
    "print(mul(t2, t4))"
   ],
   "metadata": {
    "collapsed": false
   }
  },
  {
   "cell_type": "code",
   "execution_count": 17,
   "outputs": [
    {
     "name": "stdout",
     "output_type": "stream",
     "text": [
      "<0.4102,0.0665>\n",
      "[[<0.4189,0.0819> <0.0088,0.5383> <0.1232,0.0808>]\n",
      " [<0.075,0.6515> <0.4891,0.2866> <0.074,0.2956>]]\n",
      "<0.4102,0.0665>\n",
      "[<0.4112,0.4967>]\n"
     ]
    }
   ],
   "source": [
    "print(mul(t3, t1))\n",
    "print(mul(t3, t2))\n",
    "print(mul(t3, t3))\n",
    "print(mul(t3, t4))"
   ],
   "metadata": {
    "collapsed": false
   }
  },
  {
   "cell_type": "code",
   "execution_count": 18,
   "outputs": [
    {
     "name": "stdout",
     "output_type": "stream",
     "text": [
      "[<0.4112,0.4967>]\n",
      "[[<0.4199,0.497> <0.0088,0.6376> <0.1235,0.497>]\n",
      " [<0.0752,0.7147> <0.4903,0.5229> <0.0742,0.5253>]]\n",
      "[<0.4112,0.4967>]\n",
      "[<0.4122,0.6125>]\n"
     ]
    }
   ],
   "source": [
    "print(mul(t4, t1))\n",
    "print(mul(t4, t2))\n",
    "print(mul(t4, t3))\n",
    "print(mul(t4, t4))"
   ],
   "metadata": {
    "collapsed": false
   }
  },
  {
   "cell_type": "code",
   "execution_count": 19,
   "outputs": [
    {
     "name": "stdout",
     "output_type": "stream",
     "text": [
      "<0.5638,0.1488>\n",
      "[[<0.274,0.8182> <0.5972,0.0992> <0.5069,0.2602>]\n",
      " [<0.4498,0.3984> <0.626,0.0662> <0.58,0.1232>]]\n",
      "<0.5638,0.1488>\n",
      "[<0.6073,0.0866>]\n"
     ]
    }
   ],
   "source": [
    "print(mul(t1, n1))\n",
    "print(mul(t1, n2))\n",
    "print(mul(t1, n3))\n",
    "print(mul(t1, n4))"
   ],
   "metadata": {
    "collapsed": false
   }
  },
  {
   "cell_type": "code",
   "execution_count": 20,
   "outputs": [
    {
     "name": "stdout",
     "output_type": "stream",
     "text": [
      "[[<0.5764,0.1848> <0.0119,0.6694> <0.1665,0.1827>]\n",
      " [<0.1014,0.7576> <0.682,0.4445> <0.1,0.4535>]]\n",
      "[[<0.2808,0.8371> <0.0126,0.6146> <0.1483,0.3008>]\n",
      " [<0.0796,0.8745> <0.7486,0.3149> <0.1032,0.4194>]]\n",
      "[[<0.5764,0.1848> <0.0119,0.6694> <0.1665,0.1827>]\n",
      " [<0.1014,0.7576> <0.682,0.4445> <0.1,0.4535>]]\n",
      "[[<0.6205,0.1144> <0.0129,0.5973> <0.1809,0.1127>]\n",
      " [<0.1102,0.7002> <0.729,0.353> <0.1087,0.3623>]]\n"
     ]
    }
   ],
   "source": [
    "print(mul(t2, n1))\n",
    "print(mul(t2, n2))\n",
    "print(mul(t2, n3))\n",
    "print(mul(t2, n4))"
   ],
   "metadata": {
    "collapsed": false
   }
  },
  {
   "cell_type": "code",
   "execution_count": 21,
   "outputs": [
    {
     "name": "stdout",
     "output_type": "stream",
     "text": [
      "<0.5638,0.1488>\n",
      "[[<0.274,0.8182> <0.5972,0.0992> <0.5069,0.2602>]\n",
      " [<0.4498,0.3984> <0.626,0.0662> <0.58,0.1232>]]\n",
      "<0.5638,0.1488>\n",
      "[<0.6073,0.0866>]\n"
     ]
    }
   ],
   "source": [
    "print(mul(t3, n1))\n",
    "print(mul(t3, n2))\n",
    "print(mul(t3, n3))\n",
    "print(mul(t3, n4))"
   ],
   "metadata": {
    "collapsed": false
   }
  },
  {
   "cell_type": "code",
   "execution_count": 22,
   "outputs": [
    {
     "name": "stdout",
     "output_type": "stream",
     "text": [
      "[<0.5652,0.6354>]\n",
      "[[<0.2748,0.9534> <0.5987,0.577> <0.5082,0.7258>]\n",
      " [<0.451,0.8033> <0.6275,0.524> <0.5814,0.6075>]]\n",
      "[<0.5652,0.6354>]\n",
      "[<0.6088,0.5586>]\n"
     ]
    }
   ],
   "source": [
    "print(mul(t4, n1))\n",
    "print(mul(t4, n2))\n",
    "print(mul(t4, n3))\n",
    "print(mul(t4, n4))"
   ],
   "metadata": {
    "collapsed": false
   }
  },
  {
   "cell_type": "markdown",
   "source": [
    "# 除法"
   ],
   "metadata": {
    "collapsed": false
   }
  },
  {
   "cell_type": "code",
   "execution_count": 23,
   "outputs": [
    {
     "name": "stdout",
     "output_type": "stream",
     "text": [
      "<1.0,0.0>\n",
      "[[<1.0,0.0> <1.0,0.0> <1.0,0.0>]\n",
      " [<1.0,0.0> <1.0,0.0> <1.0,0.0>]]\n",
      "<1.0,0.0>\n",
      "[<1.0,0.0>]\n"
     ]
    }
   ],
   "source": [
    "print(div(t1, t1))\n",
    "print(div(t1, t2))\n",
    "print(div(t1, t3))\n",
    "print(div(t1, t4))"
   ],
   "metadata": {
    "collapsed": false
   }
  },
  {
   "cell_type": "code",
   "execution_count": 24,
   "outputs": [
    {
     "name": "stdout",
     "output_type": "stream",
     "text": [
      "[[<1.0,0.0> <0.0214,0.538> <0.3002,0.0616>]\n",
      " [<0.1829,0.6514> <1.0,0.0> <0.1804,0.2945>]]\n",
      "[[<1.0,0.0> <1.0,0.0> <1.0,0.0>]\n",
      " [<1.0,0.0> <1.0,0.0> <1.0,0.0>]]\n",
      "[[<1.0,0.0> <0.0214,0.538> <0.3002,0.0616>]\n",
      " [<0.1829,0.6514> <1.0,0.0> <0.1804,0.2945>]]\n",
      "[[<1.0,0.0> <0.0213,0.3365> <1.0,0.0>]\n",
      " [<0.1825,0.5599> <1.0,0.0> <1.0,0.0>]]\n"
     ]
    }
   ],
   "source": [
    "print(div(t2, t1))\n",
    "print(div(t2, t2))\n",
    "print(div(t2, t3))\n",
    "print(div(t2, t4))"
   ],
   "metadata": {
    "collapsed": false
   }
  },
  {
   "cell_type": "code",
   "execution_count": 25,
   "outputs": [
    {
     "name": "stdout",
     "output_type": "stream",
     "text": [
      "<1.0,0.0>\n",
      "[[<1.0,0.0> <1.0,0.0> <1.0,0.0>]\n",
      " [<1.0,0.0> <1.0,0.0> <1.0,0.0>]]\n",
      "<1.0,0.0>\n",
      "[<1.0,0.0>]\n"
     ]
    }
   ],
   "source": [
    "print(div(t3, t1))\n",
    "print(div(t3, t2))\n",
    "print(div(t3, t3))\n",
    "print(div(t3, t4))"
   ],
   "metadata": {
    "collapsed": false
   }
  },
  {
   "cell_type": "code",
   "execution_count": 26,
   "outputs": [
    {
     "name": "stdout",
     "output_type": "stream",
     "text": [
      "[<1.0,0.0>]\n",
      "[[<1.0,0.0> <1.0,0.0> <1.0,0.0>]\n",
      " [<1.0,0.0> <0.8409,0.4663> <1.0,0.0>]]\n",
      "[<1.0,0.0>]\n",
      "[<1.0,0.0>]\n"
     ]
    }
   ],
   "source": [
    "print(div(t4, t1))\n",
    "print(div(t4, t2))\n",
    "print(div(t4, t3))\n",
    "print(div(t4, t4))"
   ],
   "metadata": {
    "collapsed": false
   }
  },
  {
   "cell_type": "code",
   "execution_count": 27,
   "outputs": [
    {
     "name": "stdout",
     "output_type": "stream",
     "text": [
      "<0.7214,0.0107>\n",
      "[[<0.9962,0.0> <0.6852,0.0236> <0.7863,0.0016>]\n",
      " [<0.8538,0.0001> <0.6552,0.0413> <0.7036,0.0161>]]\n",
      "<0.7214,0.0107>\n",
      "[<0.6745,0.0291>]\n"
     ]
    }
   ],
   "source": [
    "print(div(t1, n1))\n",
    "print(div(t1, n2))\n",
    "print(div(t1, n3))\n",
    "print(div(t1, n4))"
   ],
   "metadata": {
    "collapsed": false
   }
  },
  {
   "cell_type": "code",
   "execution_count": 28,
   "outputs": [
    {
     "name": "stdout",
     "output_type": "stream",
     "text": [
      "[[<0.7352,0.0179> <0.0158,0.3842> <0.2221,0.0174>]\n",
      " [<0.1354,0.5161> <0.8421,0.1448> <0.1335,0.152>]]\n",
      "[[<0.9973,0.0> <0.0149,0.4544> <0.2492,0.0032>]\n",
      " [<0.1725,0.2542> <0.7785,0.2577> <0.1294,0.18>]]\n",
      "[[<0.7352,0.0179> <0.0158,0.3842> <0.2221,0.0174>]\n",
      " [<0.1354,0.5161> <0.8421,0.1448> <0.1335,0.152>]]\n",
      "[[<0.6882,0.0435> <0.0146,0.4748> <0.2044,0.0426>]\n",
      " [<0.1246,0.5974> <0.7976,0.222> <0.1228,0.2305>]]\n"
     ]
    }
   ],
   "source": [
    "print(div(t2, n1))\n",
    "print(div(t2, n2))\n",
    "print(div(t2, n3))\n",
    "print(div(t2, n4))"
   ],
   "metadata": {
    "collapsed": false
   }
  },
  {
   "cell_type": "code",
   "execution_count": 29,
   "outputs": [
    {
     "name": "stdout",
     "output_type": "stream",
     "text": [
      "<0.7214,0.0107>\n",
      "[[<0.9962,0.0> <0.6852,0.0236> <0.7863,0.0016>]\n",
      " [<0.8538,0.0001> <0.6552,0.0413> <0.7036,0.0161>]]\n",
      "<0.7214,0.0107>\n",
      "[<0.6745,0.0291>]\n"
     ]
    }
   ],
   "source": [
    "print(div(t3, n1))\n",
    "print(div(t3, n2))\n",
    "print(div(t3, n3))\n",
    "print(div(t3, n4))"
   ],
   "metadata": {
    "collapsed": false
   }
  },
  {
   "cell_type": "code",
   "execution_count": 30,
   "outputs": [
    {
     "name": "stdout",
     "output_type": "stream",
     "text": [
      "[<0.723,0.3393>]\n",
      "[[<0.9963,0.0> <0.6868,0.4101> <0.7879,0.2167>]\n",
      " [<0.8553,0.1067> <0.6568,0.4684> <0.7052,0.374>]]\n",
      "[<0.723,0.3393>]\n",
      "[<0.6761,0.431>]\n"
     ]
    }
   ],
   "source": [
    "print(div(t4, n1))\n",
    "print(div(t4, n2))\n",
    "print(div(t4, n3))\n",
    "print(div(t4, n4))"
   ],
   "metadata": {
    "collapsed": false
   }
  },
  {
   "cell_type": "markdown",
   "source": [
    "# 幂运算"
   ],
   "metadata": {
    "collapsed": false
   }
  },
  {
   "cell_type": "code",
   "execution_count": 31,
   "outputs": [
    {
     "name": "stdout",
     "output_type": "stream",
     "text": [
      "<0.7493,0.0457>\n",
      "[[<0.9701,0.0216> <0.7047,0.0487> <0.8155,0.0407>]\n",
      " [<0.8699,0.0358> <0.6628,0.0514> <0.7282,0.0471>]]\n",
      "<0.7493,0.0457>\n",
      "[<0.6903,0.0497>]\n"
     ]
    }
   ],
   "source": [
    "print(pow(t1, n1))\n",
    "print(pow(t1, n2))\n",
    "print(pow(t1, n3))\n",
    "print(pow(t1, n4))"
   ],
   "metadata": {
    "collapsed": false
   }
  },
  {
   "cell_type": "code",
   "execution_count": 32,
   "outputs": [
    {
     "name": "stdout",
     "output_type": "stream",
     "text": [
      "[[<0.7595,0.0638> <0.0621,0.4702> <0.3437,0.0627>]\n",
      " [<0.2493,0.574> <0.8397,0.2478> <0.2471,0.2557>]]\n",
      "[[<0.9714,0.0301> <0.0344,0.4995> <0.4702,0.0559>]\n",
      " [<0.5112,0.4584> <0.7796,0.2786> <0.2152,0.2638>]]\n",
      "[[<0.7595,0.0638> <0.0621,0.4702> <0.3437,0.0627>]\n",
      " [<0.2493,0.574> <0.8397,0.2478> <0.2471,0.2557>]]\n",
      "[[<0.7025,0.0694> <0.0282,0.5085> <0.2538,0.0682>]\n",
      " [<0.168,0.618> <0.799,0.2691> <0.1661,0.2777>]]\n"
     ]
    }
   ],
   "source": [
    "print(pow(t2, n1))\n",
    "print(pow(t2, n2))\n",
    "print(pow(t2, n3))\n",
    "print(pow(t2, n4))"
   ],
   "metadata": {
    "collapsed": false
   }
  },
  {
   "cell_type": "code",
   "execution_count": 33,
   "outputs": [
    {
     "name": "stdout",
     "output_type": "stream",
     "text": [
      "<0.7493,0.0457>\n",
      "[[<0.9701,0.0216> <0.7047,0.0487> <0.8155,0.0407>]\n",
      " [<0.8699,0.0358> <0.6628,0.0514> <0.7282,0.0471>]]\n",
      "<0.7493,0.0457>\n",
      "[<0.6903,0.0497>]\n"
     ]
    }
   ],
   "source": [
    "print(pow(t3, n1))\n",
    "print(pow(t3, n2))\n",
    "print(pow(t3, n3))\n",
    "print(pow(t3, n4))"
   ],
   "metadata": {
    "collapsed": false
   }
  },
  {
   "cell_type": "code",
   "execution_count": 34,
   "outputs": [
    {
     "name": "stdout",
     "output_type": "stream",
     "text": [
      "[<0.7505,0.4329>]\n",
      "[[<0.9702,0.207> <0.7061,0.4602> <0.8164,0.3871>]\n",
      " [<0.8705,0.3421> <0.6643,0.4842> <0.7295,0.4461>]]\n",
      "[<0.7505,0.4329>]\n",
      "[<0.6917,0.4686>]\n"
     ]
    }
   ],
   "source": [
    "print(pow(t4, n1))\n",
    "print(pow(t4, n2))\n",
    "print(pow(t4, n3))\n",
    "print(pow(t4, n4))"
   ],
   "metadata": {
    "collapsed": false
   }
  },
  {
   "cell_type": "markdown",
   "source": [
    "# 等于"
   ],
   "metadata": {
    "collapsed": false
   }
  },
  {
   "cell_type": "code",
   "execution_count": 35,
   "outputs": [
    {
     "name": "stdout",
     "output_type": "stream",
     "text": [
      "True\n",
      "[[False False False]\n",
      " [False False False]]\n",
      "True\n",
      "[False]\n"
     ]
    }
   ],
   "source": [
    "print(equal(t1, t1))\n",
    "print(equal(t1, t2))\n",
    "print(equal(t1, t3))\n",
    "print(equal(t1, t4))"
   ],
   "metadata": {
    "collapsed": false
   }
  },
  {
   "cell_type": "code",
   "execution_count": 36,
   "outputs": [
    {
     "name": "stdout",
     "output_type": "stream",
     "text": [
      "[[False False False]\n",
      " [False False False]]\n",
      "[[ True  True  True]\n",
      " [ True  True  True]]\n",
      "[[False False False]\n",
      " [False False False]]\n",
      "[[False False False]\n",
      " [False False False]]\n"
     ]
    }
   ],
   "source": [
    "print(equal(t2, t1))\n",
    "print(equal(t2, t2))\n",
    "print(equal(t2, t3))\n",
    "print(equal(t2, t4))"
   ],
   "metadata": {
    "collapsed": false
   }
  },
  {
   "cell_type": "code",
   "execution_count": 37,
   "outputs": [
    {
     "name": "stdout",
     "output_type": "stream",
     "text": [
      "True\n",
      "[[False False False]\n",
      " [False False False]]\n",
      "True\n",
      "[False]\n"
     ]
    }
   ],
   "source": [
    "print(equal(t3, t1))\n",
    "print(equal(t3, t2))\n",
    "print(equal(t3, t3))\n",
    "print(equal(t3, t4))"
   ],
   "metadata": {
    "collapsed": false
   }
  },
  {
   "cell_type": "code",
   "execution_count": 38,
   "outputs": [
    {
     "name": "stdout",
     "output_type": "stream",
     "text": [
      "[False]\n",
      "[[False False False]\n",
      " [False False False]]\n",
      "[False]\n",
      "[ True]\n"
     ]
    }
   ],
   "source": [
    "print(equal(t4, t1))\n",
    "print(equal(t4, t2))\n",
    "print(equal(t4, t3))\n",
    "print(equal(t4, t4))"
   ],
   "metadata": {
    "collapsed": false
   }
  },
  {
   "cell_type": "markdown",
   "source": [
    "# 不等"
   ],
   "metadata": {
    "collapsed": false
   }
  },
  {
   "cell_type": "code",
   "execution_count": 39,
   "outputs": [
    {
     "name": "stdout",
     "output_type": "stream",
     "text": [
      "False\n",
      "[[ True  True  True]\n",
      " [ True  True  True]]\n",
      "False\n",
      "[ True]\n"
     ]
    }
   ],
   "source": [
    "print(inequal(t1, t1))\n",
    "print(inequal(t1, t2))\n",
    "print(inequal(t1, t3))\n",
    "print(inequal(t1, t4))"
   ],
   "metadata": {
    "collapsed": false
   }
  },
  {
   "cell_type": "code",
   "execution_count": 40,
   "outputs": [
    {
     "name": "stdout",
     "output_type": "stream",
     "text": [
      "[[ True  True  True]\n",
      " [ True  True  True]]\n",
      "[[False False False]\n",
      " [False False False]]\n",
      "[[ True  True  True]\n",
      " [ True  True  True]]\n",
      "[[ True  True  True]\n",
      " [ True  True  True]]\n"
     ]
    }
   ],
   "source": [
    "print(inequal(t2, t1))\n",
    "print(inequal(t2, t2))\n",
    "print(inequal(t2, t3))\n",
    "print(inequal(t2, t4))"
   ],
   "metadata": {
    "collapsed": false
   }
  },
  {
   "cell_type": "code",
   "execution_count": 41,
   "outputs": [
    {
     "name": "stdout",
     "output_type": "stream",
     "text": [
      "False\n",
      "[[ True  True  True]\n",
      " [ True  True  True]]\n",
      "False\n",
      "[ True]\n"
     ]
    }
   ],
   "source": [
    "print(inequal(t3, t1))\n",
    "print(inequal(t3, t2))\n",
    "print(inequal(t3, t3))\n",
    "print(inequal(t3, t4))"
   ],
   "metadata": {
    "collapsed": false
   }
  },
  {
   "cell_type": "code",
   "execution_count": 42,
   "outputs": [
    {
     "name": "stdout",
     "output_type": "stream",
     "text": [
      "[ True]\n",
      "[[ True  True  True]\n",
      " [ True  True  True]]\n",
      "[ True]\n",
      "[False]\n"
     ]
    }
   ],
   "source": [
    "print(inequal(t4, t1))\n",
    "print(inequal(t4, t2))\n",
    "print(inequal(t4, t3))\n",
    "print(inequal(t4, t4))"
   ],
   "metadata": {
    "collapsed": false
   }
  },
  {
   "cell_type": "markdown",
   "source": [
    "# 小于"
   ],
   "metadata": {
    "collapsed": false
   }
  },
  {
   "cell_type": "code",
   "execution_count": 43,
   "outputs": [
    {
     "name": "stdout",
     "output_type": "stream",
     "text": [
      "False\n",
      "[[ True False False]\n",
      " [False  True False]]\n",
      "False\n",
      "[ True]\n"
     ]
    }
   ],
   "source": [
    "print(lt(t1, t1))\n",
    "print(lt(t1, t2))\n",
    "print(lt(t1, t3))\n",
    "print(lt(t1, t4))"
   ],
   "metadata": {
    "collapsed": false
   }
  },
  {
   "cell_type": "code",
   "execution_count": 44,
   "outputs": [
    {
     "name": "stdout",
     "output_type": "stream",
     "text": [
      "[[ True  True  True]\n",
      " [ True  True  True]]\n",
      "[[False False False]\n",
      " [False False False]]\n",
      "[[ True  True  True]\n",
      " [ True  True  True]]\n",
      "[[False  True  True]\n",
      " [ True False  True]]\n"
     ]
    }
   ],
   "source": [
    "print(lt(t2, t1))\n",
    "print(lt(t2, t2))\n",
    "print(lt(t2, t3))\n",
    "print(lt(t2, t4))"
   ],
   "metadata": {
    "collapsed": false
   }
  },
  {
   "cell_type": "code",
   "execution_count": 45,
   "outputs": [
    {
     "name": "stdout",
     "output_type": "stream",
     "text": [
      "False\n",
      "[[ True False False]\n",
      " [False  True False]]\n",
      "False\n",
      "[ True]\n"
     ]
    }
   ],
   "source": [
    "print(lt(t3, t1))\n",
    "print(lt(t3, t2))\n",
    "print(lt(t3, t3))\n",
    "print(lt(t3, t4))"
   ],
   "metadata": {
    "collapsed": false
   }
  },
  {
   "cell_type": "code",
   "execution_count": 46,
   "outputs": [
    {
     "name": "stdout",
     "output_type": "stream",
     "text": [
      "[ True]\n",
      "[[ True  True  True]\n",
      " [False  True  True]]\n",
      "[ True]\n",
      "[False]\n"
     ]
    }
   ],
   "source": [
    "print(lt(t4, t1))\n",
    "print(lt(t4, t2))\n",
    "print(lt(t4, t3))\n",
    "print(lt(t4, t4))"
   ],
   "metadata": {
    "collapsed": false
   }
  },
  {
   "cell_type": "markdown",
   "source": [
    "# 大于"
   ],
   "metadata": {
    "collapsed": false
   }
  },
  {
   "cell_type": "code",
   "execution_count": 47,
   "outputs": [
    {
     "name": "stdout",
     "output_type": "stream",
     "text": [
      "False\n",
      "[[False  True  True]\n",
      " [ True False  True]]\n",
      "False\n",
      "[False]\n"
     ]
    }
   ],
   "source": [
    "print(gt(t1, t1))\n",
    "print(gt(t1, t2))\n",
    "print(gt(t1, t3))\n",
    "print(gt(t1, t4))"
   ],
   "metadata": {
    "collapsed": false
   }
  },
  {
   "cell_type": "code",
   "execution_count": 48,
   "outputs": [
    {
     "name": "stdout",
     "output_type": "stream",
     "text": [
      "[[False False False]\n",
      " [False False False]]\n",
      "[[False False False]\n",
      " [False False False]]\n",
      "[[False False False]\n",
      " [False False False]]\n",
      "[[ True False False]\n",
      " [False  True False]]\n"
     ]
    }
   ],
   "source": [
    "print(gt(t2, t1))\n",
    "print(gt(t2, t2))\n",
    "print(gt(t2, t3))\n",
    "print(gt(t2, t4))"
   ],
   "metadata": {
    "collapsed": false
   }
  },
  {
   "cell_type": "code",
   "execution_count": 49,
   "outputs": [
    {
     "name": "stdout",
     "output_type": "stream",
     "text": [
      "False\n",
      "[[False  True  True]\n",
      " [ True False  True]]\n",
      "False\n",
      "[False]\n"
     ]
    }
   ],
   "source": [
    "print(gt(t3, t1))\n",
    "print(gt(t3, t2))\n",
    "print(gt(t3, t3))\n",
    "print(gt(t3, t4))"
   ],
   "metadata": {
    "collapsed": false
   }
  },
  {
   "cell_type": "code",
   "execution_count": 50,
   "outputs": [
    {
     "name": "stdout",
     "output_type": "stream",
     "text": [
      "[False]\n",
      "[[False False False]\n",
      " [ True False False]]\n",
      "[False]\n",
      "[False]\n"
     ]
    }
   ],
   "source": [
    "print(gt(t4, t1))\n",
    "print(gt(t4, t2))\n",
    "print(gt(t4, t3))\n",
    "print(gt(t4, t4))"
   ],
   "metadata": {
    "collapsed": false
   }
  },
  {
   "cell_type": "markdown",
   "source": [
    "# 小于等于"
   ],
   "metadata": {
    "collapsed": false
   }
  },
  {
   "cell_type": "code",
   "execution_count": 51,
   "outputs": [
    {
     "name": "stdout",
     "output_type": "stream",
     "text": [
      "True\n",
      "[[ True False False]\n",
      " [False  True False]]\n",
      "True\n",
      "[ True]\n"
     ]
    }
   ],
   "source": [
    "print(le(t1, t1))\n",
    "print(le(t1, t2))\n",
    "print(le(t1, t3))\n",
    "print(le(t1, t4))"
   ],
   "metadata": {
    "collapsed": false
   }
  },
  {
   "cell_type": "code",
   "execution_count": 52,
   "outputs": [
    {
     "name": "stdout",
     "output_type": "stream",
     "text": [
      "[[ True  True  True]\n",
      " [ True  True  True]]\n",
      "[[ True  True  True]\n",
      " [ True  True  True]]\n",
      "[[ True  True  True]\n",
      " [ True  True  True]]\n",
      "[[False  True  True]\n",
      " [ True False  True]]\n"
     ]
    }
   ],
   "source": [
    "print(le(t2, t1))\n",
    "print(le(t2, t2))\n",
    "print(le(t2, t3))\n",
    "print(le(t2, t4))"
   ],
   "metadata": {
    "collapsed": false
   }
  },
  {
   "cell_type": "code",
   "execution_count": 53,
   "outputs": [
    {
     "name": "stdout",
     "output_type": "stream",
     "text": [
      "True\n",
      "[[ True False False]\n",
      " [False  True False]]\n",
      "True\n",
      "[ True]\n"
     ]
    }
   ],
   "source": [
    "print(le(t3, t1))\n",
    "print(le(t3, t2))\n",
    "print(le(t3, t3))\n",
    "print(le(t3, t4))"
   ],
   "metadata": {
    "collapsed": false
   }
  },
  {
   "cell_type": "code",
   "execution_count": 54,
   "outputs": [
    {
     "name": "stdout",
     "output_type": "stream",
     "text": [
      "[ True]\n",
      "[[ True  True  True]\n",
      " [False  True  True]]\n",
      "[ True]\n",
      "[ True]\n"
     ]
    }
   ],
   "source": [
    "print(le(t4, t1))\n",
    "print(le(t4, t2))\n",
    "print(le(t4, t3))\n",
    "print(le(t4, t4))"
   ],
   "metadata": {
    "collapsed": false
   }
  },
  {
   "cell_type": "markdown",
   "source": [
    "# 大于等于"
   ],
   "metadata": {
    "collapsed": false
   }
  },
  {
   "cell_type": "code",
   "execution_count": 55,
   "outputs": [
    {
     "name": "stdout",
     "output_type": "stream",
     "text": [
      "True\n",
      "[[False  True  True]\n",
      " [ True False  True]]\n",
      "True\n",
      "[False]\n"
     ]
    }
   ],
   "source": [
    "print(ge(t1, t1))\n",
    "print(ge(t1, t2))\n",
    "print(ge(t1, t3))\n",
    "print(ge(t1, t4))"
   ],
   "metadata": {
    "collapsed": false
   }
  },
  {
   "cell_type": "code",
   "execution_count": 56,
   "outputs": [
    {
     "name": "stdout",
     "output_type": "stream",
     "text": [
      "[[False False False]\n",
      " [False False False]]\n",
      "[[ True  True  True]\n",
      " [ True  True  True]]\n",
      "[[False False False]\n",
      " [False False False]]\n",
      "[[ True False False]\n",
      " [False  True False]]\n"
     ]
    }
   ],
   "source": [
    "print(ge(t2, t1))\n",
    "print(ge(t2, t2))\n",
    "print(ge(t2, t3))\n",
    "print(ge(t2, t4))"
   ],
   "metadata": {
    "collapsed": false
   }
  },
  {
   "cell_type": "code",
   "execution_count": 57,
   "outputs": [
    {
     "name": "stdout",
     "output_type": "stream",
     "text": [
      "True\n",
      "[[False  True  True]\n",
      " [ True False  True]]\n",
      "True\n",
      "[False]\n"
     ]
    }
   ],
   "source": [
    "print(ge(t3, t1))\n",
    "print(ge(t3, t2))\n",
    "print(ge(t3, t3))\n",
    "print(ge(t3, t4))"
   ],
   "metadata": {
    "collapsed": false
   }
  },
  {
   "cell_type": "code",
   "execution_count": 58,
   "outputs": [
    {
     "name": "stdout",
     "output_type": "stream",
     "text": [
      "[False]\n",
      "[[False False False]\n",
      " [ True False False]]\n",
      "[False]\n",
      "[ True]\n"
     ]
    }
   ],
   "source": [
    "print(ge(t4, t1))\n",
    "print(ge(t4, t2))\n",
    "print(ge(t4, t3))\n",
    "print(ge(t4, t4))"
   ],
   "metadata": {
    "collapsed": false
   }
  },
  {
   "cell_type": "code",
   "execution_count": 58,
   "outputs": [],
   "source": [],
   "metadata": {
    "collapsed": false
   }
  },
  {
   "cell_type": "code",
   "execution_count": 58,
   "outputs": [],
   "source": [],
   "metadata": {
    "collapsed": false
   }
  }
 ],
 "metadata": {
  "kernelspec": {
   "display_name": "Python 3",
   "language": "python",
   "name": "python3"
  },
  "language_info": {
   "codemirror_mode": {
    "name": "ipython",
    "version": 2
   },
   "file_extension": ".py",
   "mimetype": "text/x-python",
   "name": "python",
   "nbconvert_exporter": "python",
   "pygments_lexer": "ipython2",
   "version": "2.7.6"
  }
 },
 "nbformat": 4,
 "nbformat_minor": 0
}
