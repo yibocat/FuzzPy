{
 "cells": [
  {
   "cell_type": "code",
   "execution_count": 1,
   "metadata": {
    "collapsed": true
   },
   "outputs": [],
   "source": [
    "from fuzzysets.sets import fuzzyset as fs"
   ]
  },
  {
   "cell_type": "code",
   "execution_count": 2,
   "outputs": [],
   "source": [
    "x = fs(3,'qrunghfe')"
   ],
   "metadata": {
    "collapsed": false
   }
  },
  {
   "cell_type": "code",
   "execution_count": 3,
   "outputs": [],
   "source": [
    "x.random(7,10)"
   ],
   "metadata": {
    "collapsed": false
   }
  },
  {
   "cell_type": "code",
   "execution_count": 4,
   "outputs": [
    {
     "data": {
      "text/plain": "Collection information\n----------------------------------------\nnumber of elements:        7\nQ-rung:                    3\ntype of the set:           qrunghfe"
     },
     "execution_count": 4,
     "metadata": {},
     "output_type": "execute_result"
    }
   ],
   "source": [
    "x"
   ],
   "metadata": {
    "collapsed": false
   }
  },
  {
   "cell_type": "code",
   "execution_count": 5,
   "outputs": [
    {
     "name": "stdout",
     "output_type": "stream",
     "text": [
      "qrunghfe <class 'fuzzyelement.DHFElements.qrunghfe.qrunghfe'>\n",
      "qrungfn <class 'fuzzyelement.FNumbers.qrungfn.qrungfn'>\n",
      "qrungivfn <class 'fuzzyelement.IVFNumbers.qrungivfn.qrungivfn'>\n"
     ]
    }
   ],
   "source": [
    "x.check_dict()"
   ],
   "metadata": {
    "collapsed": false
   }
  },
  {
   "cell_type": "code",
   "execution_count": 6,
   "outputs": [
    {
     "data": {
      "text/plain": "array([QRungHFE(Q=3)[4,1]:{\n        md :[0.4284 0.0919 0.6955 0.431 ],\n        nmd:[0.0654] }                    ,\n       QRungHFE(Q=3)[4,2]:{\n        md :[0.2641 0.5258 0.0668 0.6023],\n        nmd:[0.3478 0.0086] }             ,\n       QRungHFE(Q=3)[9,4]:{\n        md :[0.069  0.2791 0.3758 0.648  0.542  0.7705 0.1935 0.1496 0.3617],\n        nmd:[0.2248 0.5566 0.0322 0.0655] }                                  ,\n       QRungHFE(Q=3)[7,4]:{\n        md :[0.0932 0.7098 0.0645 0.6011 0.3659 0.6464 0.416 ],\n        nmd:[0.8289 0.499  0.1336 0.27  ] }                    ,\n       QRungHFE(Q=3)[7,2]:{\n        md :[0.4286 0.2399 0.1071 0.013  0.5737 0.4114 0.3015],\n        nmd:[0.1058 0.888 ] }                                  ,\n       QRungHFE(Q=3)[3,1]:{\n        md :[0.132  0.9188 0.6443],\n        nmd:[0.1733] }             ,\n       QRungHFE(Q=3)[9,1]:{\n        md :[0.7307 0.9007 0.2392 0.0428 0.103  0.3568 0.9154 0.8823 0.1352],\n        nmd:[0.1377] }                                                       ],\n      dtype=object)"
     },
     "execution_count": 6,
     "metadata": {},
     "output_type": "execute_result"
    }
   ],
   "source": [
    "x.collection"
   ],
   "metadata": {
    "collapsed": false
   }
  },
  {
   "cell_type": "code",
   "execution_count": 7,
   "outputs": [
    {
     "data": {
      "text/plain": "[QRungHFE(Q=3)[4,1]:{\n  md :[0.4284 0.0919 0.6955 0.431 ],\n  nmd:[0.0654] },\n QRungHFE(Q=3)[4,2]:{\n  md :[0.2641 0.5258 0.0668 0.6023],\n  nmd:[0.3478 0.0086] },\n QRungHFE(Q=3)[9,4]:{\n  md :[0.069  0.2791 0.3758 0.648  0.542  0.7705 0.1935 0.1496 0.3617],\n  nmd:[0.2248 0.5566 0.0322 0.0655] },\n QRungHFE(Q=3)[7,4]:{\n  md :[0.0932 0.7098 0.0645 0.6011 0.3659 0.6464 0.416 ],\n  nmd:[0.8289 0.499  0.1336 0.27  ] },\n QRungHFE(Q=3)[7,2]:{\n  md :[0.4286 0.2399 0.1071 0.013  0.5737 0.4114 0.3015],\n  nmd:[0.1058 0.888 ] },\n QRungHFE(Q=3)[3,1]:{\n  md :[0.132  0.9188 0.6443],\n  nmd:[0.1733] },\n QRungHFE(Q=3)[9,1]:{\n  md :[0.7307 0.9007 0.2392 0.0428 0.103  0.3568 0.9154 0.8823 0.1352],\n  nmd:[0.1377] }]"
     },
     "execution_count": 7,
     "metadata": {},
     "output_type": "execute_result"
    }
   ],
   "source": [
    "x.list"
   ],
   "metadata": {
    "collapsed": false
   }
  },
  {
   "cell_type": "code",
   "execution_count": null,
   "outputs": [],
   "source": [],
   "metadata": {
    "collapsed": false
   }
  }
 ],
 "metadata": {
  "kernelspec": {
   "display_name": "Python 3",
   "language": "python",
   "name": "python3"
  },
  "language_info": {
   "codemirror_mode": {
    "name": "ipython",
    "version": 2
   },
   "file_extension": ".py",
   "mimetype": "text/x-python",
   "name": "python",
   "nbconvert_exporter": "python",
   "pygments_lexer": "ipython2",
   "version": "2.7.6"
  }
 },
 "nbformat": 4,
 "nbformat_minor": 0
}
