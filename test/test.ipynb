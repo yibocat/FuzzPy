{
 "cells": [
  {
   "cell_type": "code",
   "execution_count": 2,
   "id": "initial_id",
   "metadata": {
    "collapsed": true,
    "ExecuteTime": {
     "end_time": "2024-01-18T14:17:56.635074Z",
     "start_time": "2024-01-18T14:17:56.031919Z"
    }
   },
   "outputs": [],
   "source": [
    "import mohupy as mp"
   ]
  },
  {
   "cell_type": "code",
   "execution_count": 3,
   "outputs": [],
   "source": [
    "t = mp.random.rand(3, 'qrohfn', 3,5)"
   ],
   "metadata": {
    "collapsed": false,
    "ExecuteTime": {
     "end_time": "2024-01-18T14:17:57.038133Z",
     "start_time": "2024-01-18T14:17:57.033710Z"
    }
   },
   "id": "56eff994b2170266"
  },
  {
   "cell_type": "code",
   "execution_count": 4,
   "outputs": [],
   "source": [
    "s = mp.asfuzzyarray(t)"
   ],
   "metadata": {
    "collapsed": false,
    "ExecuteTime": {
     "end_time": "2024-01-18T14:17:57.453457Z",
     "start_time": "2024-01-18T14:17:57.450464Z"
    }
   },
   "id": "f80ab84fc8474ee1"
  },
  {
   "cell_type": "code",
   "execution_count": 5,
   "outputs": [
    {
     "data": {
      "text/plain": "Fuzzarray([[<[0.019  0.0877 0.5607], [0.3484 0.7071]> <[0.3199], [0.9082 0.6225]>\n            <[0.8245 0.5152 0.6866], [0.277 0.193]>\n            <[0.1131 0.0159 0.7769], [0.3407 0.1783 0.5214]>\n            <[0.561], [0.7546 0.4842 0.763 ]>]\n           [<[0.0692 0.5089], [0.6249 0.7093 0.8057 0.2042]>\n            <[0.7778 0.5491 0.3373], [0.6363 0.6656 0.4053 0.3966]>\n            <[0.4671], [0.7537]> <[0.6568], [0.4472 0.6525]>\n            <[0.1062 0.0988], [0.0785 0.3181 0.2989 0.3792]>]\n           [<[0.2409 0.6215 0.5044 0.7802], [0.176  0.5548 0.4823]>\n            <[0.2272 0.2722 0.4358 0.1813], [0.4308 0.5377]>\n            <[0.2842 0.3622], [0.1715 0.5543 0.9737]> <[0.5985], [0.7229]>\n            <[0.821], [0.6117]>]], qrung=3, mtype=qrohfn)"
     },
     "execution_count": 5,
     "metadata": {},
     "output_type": "execute_result"
    }
   ],
   "source": [
    "s"
   ],
   "metadata": {
    "collapsed": false,
    "ExecuteTime": {
     "end_time": "2024-01-18T14:17:58.585133Z",
     "start_time": "2024-01-18T14:17:58.580960Z"
    }
   },
   "id": "72d4b319d0c599ba"
  },
  {
   "cell_type": "code",
   "execution_count": null,
   "outputs": [],
   "source": [],
   "metadata": {
    "collapsed": false
   },
   "id": "5ac9f753ddcf1cd7"
  },
  {
   "cell_type": "code",
   "execution_count": null,
   "outputs": [],
   "source": [],
   "metadata": {
    "collapsed": false
   },
   "id": "57d2508322069cc7"
  },
  {
   "cell_type": "code",
   "execution_count": null,
   "outputs": [],
   "source": [],
   "metadata": {
    "collapsed": false
   },
   "id": "399665492508fdef"
  },
  {
   "cell_type": "code",
   "execution_count": null,
   "outputs": [],
   "source": [],
   "metadata": {
    "collapsed": false
   },
   "id": "18f0c764f13ce1d4"
  }
 ],
 "metadata": {
  "kernelspec": {
   "display_name": "Python 3",
   "language": "python",
   "name": "python3"
  },
  "language_info": {
   "codemirror_mode": {
    "name": "ipython",
    "version": 2
   },
   "file_extension": ".py",
   "mimetype": "text/x-python",
   "name": "python",
   "nbconvert_exporter": "python",
   "pygments_lexer": "ipython2",
   "version": "2.7.6"
  }
 },
 "nbformat": 4,
 "nbformat_minor": 5
}
