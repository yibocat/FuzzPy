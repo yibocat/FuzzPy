{
 "cells": [
  {
   "cell_type": "code",
   "execution_count": 1,
   "metadata": {
    "collapsed": false
   },
   "outputs": [],
   "source": [
    "import numpy as np\n",
    "import sys\n",
    "\n",
    "from fuzzysets.fuzzyset import fuzzyset\n",
    "from fuzzysets.fuzzysettools import *\n",
    "from fuzzysets.fuzzysetmath import *\n",
    "from fuzzysets.__fuzzysetmath import __dot11\n",
    "from fuzzysets.__fuzzysetmath import __dot12\n",
    "from fuzzysets.__fuzzysetmath import __dot21\n",
    "from fuzzysets.__fuzzysetmath import __dot22\n",
    "from config.dictionary import load_dict"
   ]
  },
  {
   "cell_type": "code",
   "execution_count": 4,
   "metadata": {
    "collapsed": false
   },
   "outputs": [],
   "source": [
    "f1 = fuzzyset(3,'qrungfn').rand(3,4)\n",
    "f2 = fuzzyset(3,'qrungivfn').rand(3,4)"
   ]
  },
  {
   "cell_type": "code",
   "execution_count": 7,
   "outputs": [
    {
     "data": {
      "text/plain": "False"
     },
     "execution_count": 7,
     "metadata": {},
     "output_type": "execute_result"
    }
   ],
   "source": [
    "similar(f1,f2)"
   ],
   "metadata": {
    "collapsed": false
   }
  },
  {
   "cell_type": "code",
   "execution_count": null,
   "outputs": [],
   "source": [],
   "metadata": {
    "collapsed": false
   }
  }
 ],
 "metadata": {
  "kernelspec": {
   "display_name": "dataocean",
   "language": "python",
   "name": "python3"
  },
  "language_info": {
   "codemirror_mode": {
    "name": "ipython",
    "version": 3
   },
   "file_extension": ".py",
   "mimetype": "text/x-python",
   "name": "python",
   "nbconvert_exporter": "python",
   "pygments_lexer": "ipython3",
   "version": "3.9.13"
  },
  "vscode": {
   "interpreter": {
    "hash": "07215fb227a9cbc0ee62e1c57ec8778c4258d9a3f48344a24b3b9c4db87ea767"
   }
  }
 },
 "nbformat": 4,
 "nbformat_minor": 0
}
