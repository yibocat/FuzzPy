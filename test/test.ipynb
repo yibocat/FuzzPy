{
 "cells": [
  {
   "cell_type": "code",
   "execution_count": 15,
   "metadata": {
    "collapsed": true
   },
   "outputs": [],
   "source": [
    "import mohupy as mp\n",
    "import numpy as np"
   ]
  },
  {
   "cell_type": "code",
   "execution_count": 16,
   "outputs": [],
   "source": [
    "f = lambda x, y: x * y"
   ],
   "metadata": {
    "collapsed": false
   }
  },
  {
   "cell_type": "code",
   "execution_count": 17,
   "outputs": [],
   "source": [
    "t1 = mp.mohunum(3, 0.2, 0.3)\n",
    "t2 = mp.mohunum(3, 0.6, 0.5)"
   ],
   "metadata": {
    "collapsed": false
   }
  },
  {
   "cell_type": "code",
   "execution_count": 18,
   "outputs": [],
   "source": [
    "def deriv(x: mp.mohunum, lam):\n",
    "    q = x.qrung\n",
    "    newfn = mp.mohunum(q, 0., 0.)\n",
    "    newfn.md = (((x.md ** (q * (lam - 1)) - 1)/(1 - x.md ** (q * lam)) + 1) * lam) ** (1/q)\n",
    "    newfn.nmd = (1 - lam * (x.nmd  ** q * (1 - x.nmd ** q) ** (lam - 1))/(1 - (1 - x.nmd ** q) ** lam)) ** (1/q)\n",
    "    return newfn"
   ],
   "metadata": {
    "collapsed": false
   }
  },
  {
   "cell_type": "code",
   "execution_count": 19,
   "outputs": [
    {
     "data": {
      "text/plain": "<0.6229,0.3009>"
     },
     "execution_count": 19,
     "metadata": {},
     "output_type": "execute_result"
    }
   ],
   "source": [
    "deriv(t1, 3)"
   ],
   "metadata": {
    "collapsed": false
   }
  },
  {
   "cell_type": "code",
   "execution_count": 20,
   "outputs": [],
   "source": [],
   "metadata": {
    "collapsed": false
   }
  },
  {
   "cell_type": "code",
   "execution_count": 22,
   "outputs": [
    {
     "data": {
      "text/plain": "                 0                1                2                3  \\\n0  <0.7853,0.3788>        <0.0,1.0>   <0.792,0.2937>        <0.0,1.0>   \n1        <0.0,1.0>        <0.0,1.0>   <0.5987,0.452>        <0.0,1.0>   \n2        <0.0,1.0>  <0.3856,0.9621>  <0.7594,0.4906>  <0.2651,0.2156>   \n\n           4                5  \n0  <0.0,1.0>        <0.0,1.0>  \n1  <0.0,1.0>  <0.5664,0.0379>  \n2  <0.0,1.0>        <0.0,1.0>  ",
      "text/html": "<div>\n<style scoped>\n    .dataframe tbody tr th:only-of-type {\n        vertical-align: middle;\n    }\n\n    .dataframe tbody tr th {\n        vertical-align: top;\n    }\n\n    .dataframe thead th {\n        text-align: right;\n    }\n</style>\n<table border=\"1\" class=\"dataframe\">\n  <thead>\n    <tr style=\"text-align: right;\">\n      <th></th>\n      <th>0</th>\n      <th>1</th>\n      <th>2</th>\n      <th>3</th>\n      <th>4</th>\n      <th>5</th>\n    </tr>\n  </thead>\n  <tbody>\n    <tr>\n      <th>0</th>\n      <td>&lt;0.7853,0.3788&gt;</td>\n      <td>&lt;0.0,1.0&gt;</td>\n      <td>&lt;0.792,0.2937&gt;</td>\n      <td>&lt;0.0,1.0&gt;</td>\n      <td>&lt;0.0,1.0&gt;</td>\n      <td>&lt;0.0,1.0&gt;</td>\n    </tr>\n    <tr>\n      <th>1</th>\n      <td>&lt;0.0,1.0&gt;</td>\n      <td>&lt;0.0,1.0&gt;</td>\n      <td>&lt;0.5987,0.452&gt;</td>\n      <td>&lt;0.0,1.0&gt;</td>\n      <td>&lt;0.0,1.0&gt;</td>\n      <td>&lt;0.5664,0.0379&gt;</td>\n    </tr>\n    <tr>\n      <th>2</th>\n      <td>&lt;0.0,1.0&gt;</td>\n      <td>&lt;0.3856,0.9621&gt;</td>\n      <td>&lt;0.7594,0.4906&gt;</td>\n      <td>&lt;0.2651,0.2156&gt;</td>\n      <td>&lt;0.0,1.0&gt;</td>\n      <td>&lt;0.0,1.0&gt;</td>\n    </tr>\n  </tbody>\n</table>\n</div>"
     },
     "execution_count": 22,
     "metadata": {},
     "output_type": "execute_result"
    }
   ],
   "source": [],
   "metadata": {
    "collapsed": false
   }
  },
  {
   "cell_type": "code",
   "execution_count": 14,
   "outputs": [],
   "source": [],
   "metadata": {
    "collapsed": false
   }
  },
  {
   "cell_type": "code",
   "execution_count": null,
   "outputs": [],
   "source": [],
   "metadata": {
    "collapsed": false
   }
  },
  {
   "cell_type": "code",
   "execution_count": null,
   "outputs": [],
   "source": [],
   "metadata": {
    "collapsed": false
   }
  },
  {
   "cell_type": "code",
   "execution_count": null,
   "outputs": [],
   "source": [],
   "metadata": {
    "collapsed": false
   }
  },
  {
   "cell_type": "code",
   "execution_count": null,
   "outputs": [],
   "source": [],
   "metadata": {
    "collapsed": false
   }
  }
 ],
 "metadata": {
  "kernelspec": {
   "display_name": "Python 3",
   "language": "python",
   "name": "python3"
  },
  "language_info": {
   "codemirror_mode": {
    "name": "ipython",
    "version": 2
   },
   "file_extension": ".py",
   "mimetype": "text/x-python",
   "name": "python",
   "nbconvert_exporter": "python",
   "pygments_lexer": "ipython2",
   "version": "2.7.6"
  }
 },
 "nbformat": 4,
 "nbformat_minor": 0
}
