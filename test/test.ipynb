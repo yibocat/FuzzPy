{
 "cells": [
  {
   "cell_type": "code",
   "execution_count": null,
   "metadata": {
    "collapsed": true
   },
   "outputs": [],
   "source": [
    "from aggregator.aggregatefunc import weighted_ave,weighted_geom\n",
    "import fuzzysets as fs\n",
    "import numpy as np\n",
    "import fuzzyelement.FNumbers as fn"
   ]
  },
  {
   "cell_type": "code",
   "execution_count": null,
   "outputs": [],
   "source": [
    "t1 = fn.qrungfn(1,0.4,0.1)\n",
    "t2 = fn.qrungfn(1,0.5,0.2)\n",
    "t3 = fn.qrungfn(1,0.3,0.6)\n",
    "t4 = fn.qrungfn(1,0.8,0.1)\n",
    "t5 = fn.qrungfn(1,0.7,0.2)\n",
    "t6 = fn.qrungfn(1,0.5,0.3)\n",
    "t7 = fn.qrungfn(1,0.3,0.6)\n",
    "t8 = fn.qrungfn(1,0.4,0.3)"
   ],
   "metadata": {
    "collapsed": false
   }
  },
  {
   "cell_type": "code",
   "execution_count": null,
   "outputs": [],
   "source": [
    "t = np.array([t1,t2,t3,t4,t5,t6,t7,t8])\n",
    "ff = fs.asfuzzyset(t)\n",
    "ww = [0.2,0.05,0.05,0.1,0.2,0.1,0.1,0.2]"
   ],
   "metadata": {
    "collapsed": false
   }
  },
  {
   "cell_type": "code",
   "execution_count": null,
   "outputs": [],
   "source": [
    "weighted_ave(ff,ww)"
   ],
   "metadata": {
    "collapsed": false
   }
  },
  {
   "cell_type": "code",
   "execution_count": null,
   "outputs": [],
   "source": [
    "weighted_geom(ff,ww)"
   ],
   "metadata": {
    "collapsed": false
   }
  },
  {
   "cell_type": "code",
   "execution_count": null,
   "outputs": [],
   "source": [],
   "metadata": {
    "collapsed": false
   }
  }
 ],
 "metadata": {
  "kernelspec": {
   "display_name": "Python 3",
   "language": "python",
   "name": "python3"
  },
  "language_info": {
   "codemirror_mode": {
    "name": "ipython",
    "version": 2
   },
   "file_extension": ".py",
   "mimetype": "text/x-python",
   "name": "python",
   "nbconvert_exporter": "python",
   "pygments_lexer": "ipython2",
   "version": "2.7.6"
  }
 },
 "nbformat": 4,
 "nbformat_minor": 0
}
