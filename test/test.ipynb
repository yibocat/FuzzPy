{
 "cells": [
  {
   "cell_type": "code",
   "execution_count": 1,
   "metadata": {
    "collapsed": true
   },
   "outputs": [],
   "source": [
    "import numpy as np\n",
    "from fuzzyelement.FNumbers import qrungfn, randomFN\n",
    "from fuzzyelement.DHFElements import qrunghfe, randomQHF\n",
    "from fuzzyelement.IVFNumbers import qrungivfn, randomIVFN\n",
    "from config.__dict import __dict"
   ]
  },
  {
   "cell_type": "code",
   "execution_count": 2,
   "outputs": [],
   "source": [
    "x1 = qrunghfe(3,[0.5],[0.3])\n",
    "x2 = qrungfn(3,0.5,0.3)\n",
    "x3 = qrungivfn(3,[0.5,0.6],[0.3,0.7])"
   ],
   "metadata": {
    "collapsed": false
   }
  },
  {
   "cell_type": "code",
   "execution_count": 3,
   "outputs": [
    {
     "data": {
      "text/plain": "'DhFuzzy'"
     },
     "execution_count": 3,
     "metadata": {},
     "output_type": "execute_result"
    }
   ],
   "source": [
    "x1.parent"
   ],
   "metadata": {
    "collapsed": false
   }
  },
  {
   "cell_type": "code",
   "execution_count": 4,
   "outputs": [
    {
     "data": {
      "text/plain": "'Fuzzynum'"
     },
     "execution_count": 4,
     "metadata": {},
     "output_type": "execute_result"
    }
   ],
   "source": [
    "x2.parent"
   ],
   "metadata": {
    "collapsed": false
   }
  },
  {
   "cell_type": "code",
   "execution_count": 5,
   "outputs": [
    {
     "data": {
      "text/plain": "'IVFuzzynum'"
     },
     "execution_count": 5,
     "metadata": {},
     "output_type": "execute_result"
    }
   ],
   "source": [
    "x3.parent"
   ],
   "metadata": {
    "collapsed": false
   }
  },
  {
   "cell_type": "code",
   "execution_count": 6,
   "outputs": [
    {
     "data": {
      "text/plain": "False"
     },
     "execution_count": 6,
     "metadata": {},
     "output_type": "execute_result"
    }
   ],
   "source": [
    "x1.isEmpty_half()"
   ],
   "metadata": {
    "collapsed": false
   }
  },
  {
   "cell_type": "code",
   "execution_count": 7,
   "outputs": [
    {
     "data": {
      "text/plain": "{'qrunghfe': {'type': fuzzyelement.DHFElements.qrunghfe.qrunghfe,\n  'random': <function fuzzyelement.DHFElements.toolkit.randomQHF(q, n)>,\n  'generator': generator.DHFEGenerator.DHFEGenerator,\n  'convert_str': <function fuzzyelement.DHFElements.toolkit.str_to_hfe(s, q: float)>},\n 'qrungfn': {'type': fuzzyelement.FNumbers.qrungfn.qrungfn,\n  'random': <function fuzzyelement.FNumbers.toolkit.randomFN(q)>,\n  'generator': generator.FNGenerator.FNGenerator,\n  'convert_str': <function fuzzyelement.FNumbers.toolkit.str_to_fn(s, q)>},\n 'qrungivfn': {'type': fuzzyelement.IVFNumbers.qrungivfn.qrungivfn,\n  'random': <function fuzzyelement.IVFNumbers.toolkit.randomIVFN(q)>,\n  'generator': generator.IVFNGenerator.IVFNGenerator,\n  'convert_str': <function fuzzyelement.IVFNumbers.toolkit.str_to_ivfn(s, q)>}}"
     },
     "execution_count": 7,
     "metadata": {},
     "output_type": "execute_result"
    }
   ],
   "source": [
    "__dict"
   ],
   "metadata": {
    "collapsed": false
   }
  },
  {
   "cell_type": "code",
   "execution_count": null,
   "outputs": [],
   "source": [],
   "metadata": {
    "collapsed": false
   }
  }
 ],
 "metadata": {
  "kernelspec": {
   "display_name": "Python 3",
   "language": "python",
   "name": "python3"
  },
  "language_info": {
   "codemirror_mode": {
    "name": "ipython",
    "version": 2
   },
   "file_extension": ".py",
   "mimetype": "text/x-python",
   "name": "python",
   "nbconvert_exporter": "python",
   "pygments_lexer": "ipython2",
   "version": "2.7.6"
  }
 },
 "nbformat": 4,
 "nbformat_minor": 0
}
