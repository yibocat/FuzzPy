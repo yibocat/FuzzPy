{
 "cells": [
  {
   "cell_type": "code",
   "execution_count": null,
   "metadata": {
    "collapsed": true
   },
   "outputs": [],
   "source": [
    "import mohupy as mp\n",
    "import numpy as np\n",
    "import urllib.request\n",
    "\n",
    "import os"
   ]
  },
  {
   "cell_type": "code",
   "execution_count": null,
   "outputs": [],
   "source": [
    "def convert(ts):\n",
    "    if ts == 0:\n",
    "        return mp.fuzznum(3, 0.5, 0.5)\n",
    "    if ts < 0:\n",
    "        return (mp.fuzznum(3, 0.5, 0.5) / mp.fuzznum(3, 0.5, 0.5) ** np.float_(-ts)).comp\n",
    "    return mp.fuzznum(3, 0.5,0.5) / mp.fuzznum(3, 0.5, 0.5) ** ts\n",
    "\n",
    "def convert_label(ts, num_class):\n",
    "    return ((mp.fuzznum(3, 0.5, 0.5)\n",
    "             * mp.fuzznum(3, np.random.uniform(0.9,0.99), np.random.uniform(0.01, 0.1))\n",
    "             ) ** (ts / (num_class/2))).comp"
   ],
   "metadata": {
    "collapsed": false
   }
  },
  {
   "cell_type": "code",
   "execution_count": null,
   "outputs": [],
   "source": [
    "num_class = 5\n",
    "data = np.random.uniform(-5, 5, size=(100,1))\n",
    "label = np.random.randint(0, num_class, size=(100,num_class))"
   ],
   "metadata": {
    "collapsed": false
   }
  },
  {
   "cell_type": "code",
   "execution_count": null,
   "outputs": [],
   "source": [
    "vec_func1,vec_func2 = np.vectorize(convert), np.vectorize(convert_label)\n",
    "train_data = mp.fuzzset(vec_func1(data))\n",
    "train_label = mp.fuzzset(vec_func2(label+1, num_class))"
   ],
   "metadata": {
    "collapsed": false
   }
  },
  {
   "cell_type": "code",
   "execution_count": null,
   "outputs": [],
   "source": [
    "mp.plot(train_label)"
   ],
   "metadata": {
    "collapsed": false
   }
  },
  {
   "cell_type": "code",
   "execution_count": null,
   "outputs": [],
   "source": [
    "mp.plot(train_data)"
   ],
   "metadata": {
    "collapsed": false
   }
  },
  {
   "cell_type": "code",
   "execution_count": null,
   "outputs": [],
   "source": [],
   "metadata": {
    "collapsed": false
   }
  },
  {
   "cell_type": "code",
   "execution_count": null,
   "outputs": [],
   "source": [],
   "metadata": {
    "collapsed": false
   }
  },
  {
   "cell_type": "code",
   "execution_count": null,
   "outputs": [],
   "source": [],
   "metadata": {
    "collapsed": false
   }
  },
  {
   "cell_type": "code",
   "execution_count": null,
   "outputs": [],
   "source": [],
   "metadata": {
    "collapsed": false
   }
  },
  {
   "cell_type": "code",
   "execution_count": null,
   "outputs": [],
   "source": [],
   "metadata": {
    "collapsed": false
   }
  },
  {
   "cell_type": "code",
   "execution_count": null,
   "outputs": [],
   "source": [],
   "metadata": {
    "collapsed": false
   }
  }
 ],
 "metadata": {
  "kernelspec": {
   "display_name": "Python 3",
   "language": "python",
   "name": "python3"
  },
  "language_info": {
   "codemirror_mode": {
    "name": "ipython",
    "version": 2
   },
   "file_extension": ".py",
   "mimetype": "text/x-python",
   "name": "python",
   "nbconvert_exporter": "python",
   "pygments_lexer": "ipython2",
   "version": "2.7.6"
  }
 },
 "nbformat": 4,
 "nbformat_minor": 0
}
