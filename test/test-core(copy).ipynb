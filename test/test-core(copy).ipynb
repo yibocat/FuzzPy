{
 "cells": [
  {
   "cell_type": "code",
   "outputs": [],
   "source": [
    "import mohupy as mp\n",
    "\n",
    "mp.config.set_mtype('ivfn')\n",
    "x = mp.rand_fuzz(15,qrung=2)\n",
    "mp.fuzz_plot(x, alpha=0.1)"
   ],
   "metadata": {
    "collapsed": false
   },
   "id": "24ac81d9db50c81a",
   "execution_count": null
  },
  {
   "cell_type": "code",
   "outputs": [],
   "source": [],
   "metadata": {
    "collapsed": false
   },
   "id": "79f7cc4d0ad7b83e"
  },
  {
   "cell_type": "code",
   "outputs": [],
   "source": [],
   "metadata": {
    "collapsed": false
   },
   "id": "e168f41926ca7aac"
  },
  {
   "cell_type": "code",
   "outputs": [],
   "source": [],
   "metadata": {
    "collapsed": false
   },
   "id": "41062ff70a835829"
  },
  {
   "cell_type": "code",
   "outputs": [],
   "source": [],
   "metadata": {
    "collapsed": false
   },
   "id": "819fa3062f9dcbe4"
  }
 ],
 "metadata": {
  "kernelspec": {
   "display_name": "Python 3",
   "language": "python",
   "name": "python3"
  },
  "language_info": {
   "codemirror_mode": {
    "name": "ipython",
    "version": 2
   },
   "file_extension": ".py",
   "mimetype": "text/x-python",
   "name": "python",
   "nbconvert_exporter": "python",
   "pygments_lexer": "ipython2",
   "version": "2.7.6"
  }
 },
 "nbformat": 4,
 "nbformat_minor": 5
}
