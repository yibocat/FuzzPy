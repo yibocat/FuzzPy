{
 "cells": [
  {
   "cell_type": "code",
   "execution_count": null,
   "metadata": {
    "collapsed": true
   },
   "outputs": [],
   "source": [
    "import mohupy as mp\n",
    "import numpy as np"
   ]
  },
  {
   "cell_type": "code",
   "execution_count": null,
   "outputs": [],
   "source": [
    "md_l1,md_u1 = 0.5,0.8\n",
    "nmd_l1,nmd_u1 = 0.1,0.6\n",
    "\n",
    "md_l2,md_u2 = 0.1,0.4\n",
    "nmd_l2,nmd_u2 = 0.6,0.85\n",
    "\n",
    "t = mp.fuzzset([\n",
    "    mp.fuzznum(3,np.random.uniform(md_l1, md_u1),np.random.uniform(nmd_l1, nmd_u1)),\n",
    "    mp.fuzznum(3,np.random.uniform(md_l1, md_u1),np.random.uniform(nmd_l1, nmd_u1)),\n",
    "    mp.fuzznum(3,np.random.uniform(md_l1, md_u1),np.random.uniform(nmd_l1, nmd_u1)),\n",
    "    mp.fuzznum(3,np.random.uniform(md_l1, md_u1),np.random.uniform(nmd_l1, nmd_u1)),\n",
    "    mp.fuzznum(3,np.random.uniform(md_l1, md_u1),np.random.uniform(nmd_l1, nmd_u1)),\n",
    "    mp.fuzznum(3,np.random.uniform(md_l1, md_u1),np.random.uniform(nmd_l1, nmd_u1)),\n",
    "    mp.fuzznum(3,np.random.uniform(md_l1, md_u1),np.random.uniform(nmd_l1, nmd_u1)),\n",
    "\n",
    "    mp.fuzznum(3,np.random.uniform(md_l2, md_u2),np.random.uniform(nmd_l2, nmd_u2)),\n",
    "    mp.fuzznum(3,np.random.uniform(md_l2, md_u2),np.random.uniform(nmd_l2, nmd_u2)),\n",
    "    mp.fuzznum(3,np.random.uniform(md_l2, md_u2),np.random.uniform(nmd_l2, nmd_u2)),\n",
    "    mp.fuzznum(3,np.random.uniform(md_l2, md_u2),np.random.uniform(nmd_l2, nmd_u2)),\n",
    "    mp.fuzznum(3,np.random.uniform(md_l2, md_u2),np.random.uniform(nmd_l2, nmd_u2)),\n",
    "])"
   ],
   "metadata": {
    "collapsed": false
   }
  },
  {
   "cell_type": "code",
   "execution_count": null,
   "outputs": [],
   "source": [
    "mp.plot(t)"
   ],
   "metadata": {
    "collapsed": false
   }
  },
  {
   "cell_type": "code",
   "execution_count": null,
   "outputs": [],
   "source": [
    "len(t)"
   ],
   "metadata": {
    "collapsed": false
   }
  },
  {
   "cell_type": "code",
   "execution_count": null,
   "outputs": [],
   "source": [
    "s = mp.fuzzset([\n",
    "    mp.fuzznum(3, 0.31,0.69),\n",
    "    mp.fuzznum(3, 0.64,0.43),\n",
    "    mp.fuzznum(3, 0.47,0.24),\n",
    "    mp.fuzznum(3, 0.58,0.33),\n",
    "    mp.fuzznum(3, 0.28,0.69)\n",
    "])"
   ],
   "metadata": {
    "collapsed": false
   }
  },
  {
   "cell_type": "code",
   "execution_count": null,
   "outputs": [],
   "source": [
    "mp.plot(s)"
   ],
   "metadata": {
    "collapsed": false
   }
  },
  {
   "cell_type": "code",
   "execution_count": null,
   "outputs": [],
   "source": [],
   "metadata": {
    "collapsed": false
   }
  }
 ],
 "metadata": {
  "kernelspec": {
   "display_name": "Python 3",
   "language": "python",
   "name": "python3"
  },
  "language_info": {
   "codemirror_mode": {
    "name": "ipython",
    "version": 2
   },
   "file_extension": ".py",
   "mimetype": "text/x-python",
   "name": "python",
   "nbconvert_exporter": "python",
   "pygments_lexer": "ipython2",
   "version": "2.7.6"
  }
 },
 "nbformat": 4,
 "nbformat_minor": 0
}
