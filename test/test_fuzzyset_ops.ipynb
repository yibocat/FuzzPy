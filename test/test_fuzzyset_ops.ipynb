{
 "cells": [
  {
   "cell_type": "code",
   "execution_count": 1,
   "outputs": [],
   "source": [
    "import numpy as np\n",
    "import config as cfg\n",
    "# from fuzzyelement.DHFElements import *\n",
    "from fuzzyelement.FNumbers import qrungfn,algeb_plus\n",
    "# from fuzzyelement.IVFNumbers import *\n",
    "\n",
    "from fuzzysets import fuzzyset\n",
    "\n",
    "d = cfg.load_dict(False)"
   ],
   "metadata": {
    "collapsed": false
   }
  },
  {
   "cell_type": "code",
   "execution_count": null,
   "outputs": [],
   "source": [
    "def dot1(x:fuzzyset, y:fuzzyset, norm='algeb_multipy'):\n",
    "    \"\"\"\n",
    "        Dot product of two fuzzy sets\n",
    "    \"\"\"\n",
    "    assert norm[-7:] == 'multipy', 'ERROR: norm must be multipy.'\n",
    "    assert x.dict['type'].__name__ == y.dict['type'].__name__, 'ERROR: the two fuzzy set are not the same set!'\n",
    "    assert x.qrung == y.qrung, 'ERROR: the qrung of two fuzzy sets are not equal!'\n",
    "    assert len(x.shape) == 1 and len(y.shape) == 1, 'Both fuzzy sets must be 1-dimensional fuzzy sets.'\n",
    "    assert x.len == y.len, 'ERROR: The number of elements in the two fuzzy sets must be the same.'\n",
    "\n",
    "    multipy = x.dict[norm]\n",
    "    newf = fuzzyset(x.qrung,y.dict['type'].__name__)\n",
    "    num = 0\n",
    "\n",
    "    for i in range(x.len):\n",
    "        newf.append(multipy(x.set[i],y.set[i]))\n",
    "        num += 1\n",
    "    newf.reshape(num)\n",
    "    return newf.sum()"
   ],
   "metadata": {
    "collapsed": false
   }
  },
  {
   "cell_type": "code",
   "execution_count": null,
   "outputs": [],
   "source": [
    "def cartadd(f1: fuzzyset,f2: fuzzyset, norm='algeb_plus'):\n",
    "    def _register(zs):\n",
    "        newf = fuzzyset(3, 'qrungfn')\n",
    "        for i in range(len(zs)):\n",
    "            newf.append(zs[i][0])\n",
    "        return newf\n",
    "\n",
    "    assert f1.dict['type'].__name__ in d and f2.dict['type'].__name__ in d, 'ERROR: fuzzy set type does not exist!'\n",
    "    assert f1.dict['type'].__name__ == f2.dict['type'].__name__, 'ERROR: the two fuzzy set are not the same set!'\n",
    "    assert f1.qrung == f2.qrung, 'ERROR: the qrung of two fuzzy sets are not equal!'\n",
    "\n",
    "    newset = fuzzyset(f1.qrung,f1.dict['type'].__name__)\n",
    "    x, y = f1.ravel(),f2.ravel()\n",
    "    m, n = f1.len, f2.len\n",
    "\n",
    "    a = dot1(_register(np.atleast_2d(x.set).T), newset.poss(1,n))\n",
    "    b = dot1(newset.poss(m,1), _register(np.atleast_2d(y.set)))\n",
    "\n",
    "    return a+b"
   ],
   "metadata": {
    "collapsed": false
   }
  },
  {
   "cell_type": "code",
   "execution_count": null,
   "outputs": [],
   "source": [],
   "metadata": {
    "collapsed": false
   }
  }
 ],
 "metadata": {
  "kernelspec": {
   "display_name": "Python 3",
   "language": "python",
   "name": "python3"
  },
  "language_info": {
   "codemirror_mode": {
    "name": "ipython",
    "version": 2
   },
   "file_extension": ".py",
   "mimetype": "text/x-python",
   "name": "python",
   "nbconvert_exporter": "python",
   "pygments_lexer": "ipython2",
   "version": "2.7.6"
  }
 },
 "nbformat": 4,
 "nbformat_minor": 0
}
