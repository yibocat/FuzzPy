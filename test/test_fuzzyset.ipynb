{
 "cells": [
  {
   "cell_type": "code",
   "execution_count": 1,
   "metadata": {
    "collapsed": true
   },
   "outputs": [],
   "source": [
    "import numpy as np\n",
    "import pandas as pd\n",
    "\n",
    "from fuzzysets.sets import fuzzyset as fs\n",
    "import fuzzyelement.DHFElements as dh\n",
    "import fuzzyelement.FNumbers as fn\n",
    "import fuzzyelement.IVFNumbers as ifn"
   ]
  },
  {
   "cell_type": "code",
   "execution_count": 2,
   "outputs": [],
   "source": [
    "x = fs(3,'qrungfn')"
   ],
   "metadata": {
    "collapsed": false
   }
  },
  {
   "cell_type": "code",
   "execution_count": 3,
   "outputs": [
    {
     "data": {
      "text/plain": "Collection information\n----------------------------------------\nfuzzy set type:            qrungfn\nQ-rung:                    3\nthe set shape:             (4, 7)\nelements number:           28"
     },
     "execution_count": 3,
     "metadata": {},
     "output_type": "execute_result"
    }
   ],
   "source": [
    "x.rand(4,7)"
   ],
   "metadata": {
    "collapsed": false
   }
  },
  {
   "cell_type": "code",
   "execution_count": 6,
   "outputs": [
    {
     "data": {
      "text/plain": "                  0                 1                 2                 3  \\\n0  [0.4066, 0.1043]  [0.0008, 0.5944]  [0.0197, 0.7273]  [0.3844, 0.1045]   \n1  [0.3258, 0.0246]  [0.2201, 0.4007]  [0.1499, 0.5177]  [0.8892, 0.4357]   \n2   [0.4867, 0.378]  [0.2089, 0.7392]  [0.7182, 0.4638]  [0.2749, 0.5606]   \n3   [0.244, 0.1837]  [0.3025, 0.4805]  [0.4547, 0.1861]  [0.4217, 0.2223]   \n\n                  4                 5                 6  \n0  [0.7351, 0.1973]   [0.0698, 0.934]  [0.1305, 0.3058]  \n1  [0.4638, 0.1015]   [0.1738, 0.374]  [0.4765, 0.2154]  \n2  [0.3375, 0.5258]   [0.5205, 0.354]  [0.4148, 0.3251]  \n3  [0.1009, 0.1054]  [0.9515, 0.4864]    [0.9866, 0.26]  ",
      "text/html": "<div>\n<style scoped>\n    .dataframe tbody tr th:only-of-type {\n        vertical-align: middle;\n    }\n\n    .dataframe tbody tr th {\n        vertical-align: top;\n    }\n\n    .dataframe thead th {\n        text-align: right;\n    }\n</style>\n<table border=\"1\" class=\"dataframe\">\n  <thead>\n    <tr style=\"text-align: right;\">\n      <th></th>\n      <th>0</th>\n      <th>1</th>\n      <th>2</th>\n      <th>3</th>\n      <th>4</th>\n      <th>5</th>\n      <th>6</th>\n    </tr>\n  </thead>\n  <tbody>\n    <tr>\n      <th>0</th>\n      <td>[0.4066, 0.1043]</td>\n      <td>[0.0008, 0.5944]</td>\n      <td>[0.0197, 0.7273]</td>\n      <td>[0.3844, 0.1045]</td>\n      <td>[0.7351, 0.1973]</td>\n      <td>[0.0698, 0.934]</td>\n      <td>[0.1305, 0.3058]</td>\n    </tr>\n    <tr>\n      <th>1</th>\n      <td>[0.3258, 0.0246]</td>\n      <td>[0.2201, 0.4007]</td>\n      <td>[0.1499, 0.5177]</td>\n      <td>[0.8892, 0.4357]</td>\n      <td>[0.4638, 0.1015]</td>\n      <td>[0.1738, 0.374]</td>\n      <td>[0.4765, 0.2154]</td>\n    </tr>\n    <tr>\n      <th>2</th>\n      <td>[0.4867, 0.378]</td>\n      <td>[0.2089, 0.7392]</td>\n      <td>[0.7182, 0.4638]</td>\n      <td>[0.2749, 0.5606]</td>\n      <td>[0.3375, 0.5258]</td>\n      <td>[0.5205, 0.354]</td>\n      <td>[0.4148, 0.3251]</td>\n    </tr>\n    <tr>\n      <th>3</th>\n      <td>[0.244, 0.1837]</td>\n      <td>[0.3025, 0.4805]</td>\n      <td>[0.4547, 0.1861]</td>\n      <td>[0.4217, 0.2223]</td>\n      <td>[0.1009, 0.1054]</td>\n      <td>[0.9515, 0.4864]</td>\n      <td>[0.9866, 0.26]</td>\n    </tr>\n  </tbody>\n</table>\n</div>"
     },
     "execution_count": 6,
     "metadata": {},
     "output_type": "execute_result"
    }
   ],
   "source": [
    "x.mat"
   ],
   "metadata": {
    "collapsed": false
   }
  },
  {
   "cell_type": "code",
   "execution_count": null,
   "outputs": [],
   "source": [],
   "metadata": {
    "collapsed": false
   }
  },
  {
   "cell_type": "code",
   "execution_count": null,
   "outputs": [],
   "source": [],
   "metadata": {
    "collapsed": false
   }
  },
  {
   "cell_type": "code",
   "execution_count": null,
   "outputs": [],
   "source": [
    "x.reshape(7,4)"
   ],
   "metadata": {
    "collapsed": false
   }
  },
  {
   "cell_type": "code",
   "execution_count": null,
   "outputs": [],
   "source": [
    "x.ravel()"
   ],
   "metadata": {
    "collapsed": false
   }
  },
  {
   "cell_type": "code",
   "execution_count": null,
   "outputs": [],
   "source": [
    "x.mat"
   ],
   "metadata": {
    "collapsed": false
   }
  },
  {
   "cell_type": "code",
   "execution_count": null,
   "outputs": [],
   "source": [],
   "metadata": {
    "collapsed": false
   }
  }
 ],
 "metadata": {
  "kernelspec": {
   "display_name": "Python 3",
   "language": "python",
   "name": "python3"
  },
  "language_info": {
   "codemirror_mode": {
    "name": "ipython",
    "version": 2
   },
   "file_extension": ".py",
   "mimetype": "text/x-python",
   "name": "python",
   "nbconvert_exporter": "python",
   "pygments_lexer": "ipython2",
   "version": "2.7.6"
  }
 },
 "nbformat": 4,
 "nbformat_minor": 0
}
