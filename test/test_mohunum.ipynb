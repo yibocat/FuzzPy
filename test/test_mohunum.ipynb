{
 "cells": [
  {
   "cell_type": "code",
   "execution_count": null,
   "outputs": [],
   "source": [
    "import mohupy as mp"
   ],
   "metadata": {
    "collapsed": false
   }
  },
  {
   "cell_type": "code",
   "execution_count": null,
   "outputs": [],
   "source": [
    "# 创建一个 q-rung orthopair fuzzy number(q=3)\n",
    "t = mp.mohunum(3, 0.7,0.3)\n",
    "t1 = mp.mohunum(3, 0.6,0.5)\n",
    "t2 = mp.mohunum(3, 0.3,0.8)"
   ],
   "metadata": {
    "collapsed": false
   }
  },
  {
   "cell_type": "code",
   "execution_count": null,
   "outputs": [],
   "source": [
    "print(t)"
   ],
   "metadata": {
    "collapsed": false
   }
  },
  {
   "cell_type": "code",
   "execution_count": null,
   "outputs": [],
   "source": [
    "print('fuzzy number: {}\\n'.format(t) +\n",
    "    'fuzzy type: {},'.format(t.mtype) + ' q=%d\\n'%t.qrung +\n",
    "    'membership degree: {}'.format(t.md)+' nonmembership degree: {} \\n' .format(t.nmd)\n",
    "      + 'Complement: {}'.format(t.comp) + ' accuracy: %.4f\\n'%t.acc\n",
    "      + 'indeterminacy: %.4f\\n' %t.ind\n",
    "      + 'score: %.4f'%t.score)"
   ],
   "metadata": {
    "collapsed": false
   }
  },
  {
   "cell_type": "code",
   "execution_count": null,
   "outputs": [],
   "source": [
    "print('The fuzzy number is valid: {}\\n'.format(t.is_valid()),\n",
    "      'The convert of the fuzzy number is {}\\n'.format(t.convert()),\n",
    "      'The fuzzy number is empty: {}'.format(t.isEmpty()))"
   ],
   "metadata": {
    "collapsed": false
   }
  },
  {
   "cell_type": "code",
   "execution_count": null,
   "outputs": [],
   "source": [
    "print('t1 + t2 = {}\\n'.format(t1+t2),\n",
    "      't1/t2 = {}\\n'.format(t1/t2),\n",
    "      't1*t2 = {}\\n'.format(t1*t2),\n",
    "      't1 - t2 = {}\\n'.format(t1-t2),\n",
    "      't1^0.3 = {}\\n'.format(t1**0.3),\n",
    "      '0.3*t1 = {}\\n'.format(0.3*t1),\n",
    "      't1 < t2 = {}\\n'.format(t1<t2),\n",
    "      't1 <= t2 = {}\\n'.format(t1<=t2),\n",
    "      't1 > t2 = {}\\n'.format(t1>t2),\n",
    "      't1 >= t2 = {}\\n'.format(t1>=t2),)"
   ],
   "metadata": {
    "collapsed": false
   }
  },
  {
   "cell_type": "code",
   "execution_count": null,
   "outputs": [],
   "source": [
    "mp.plot(t)"
   ],
   "metadata": {
    "collapsed": false
   }
  },
  {
   "cell_type": "code",
   "execution_count": null,
   "outputs": [],
   "source": [
    "mp.plot(t,area=[True,True,True,True])"
   ],
   "metadata": {
    "collapsed": false
   }
  },
  {
   "cell_type": "code",
   "execution_count": null,
   "outputs": [],
   "source": [
    "# area 的四个 bool 组对应了 加减乘除 四个域\n",
    "# 可以看到，t2 在 t1 的减法域\n",
    "mp.plot(t,other=t2, area=[False,True,False,False])"
   ],
   "metadata": {
    "collapsed": false
   }
  },
  {
   "cell_type": "code",
   "execution_count": null,
   "outputs": [],
   "source": [
    "# 将一个字符串转换成模糊数\n",
    "s = '[0.4,0.2]'\n",
    "print(mp.str2mohu(s,3,'qrofn'))\n",
    "print(type(mp.str2mohu(s,3,'qrofn')))"
   ],
   "metadata": {
    "collapsed": false
   }
  },
  {
   "cell_type": "code",
   "execution_count": null,
   "outputs": [],
   "source": [
    "# t1 和 t2 的欧氏距离\n",
    "print(mp.distance(t1,t2,l=2))\n",
    "# t1 和 t2 的欧氏距离（不考虑不确定度）\n",
    "print(mp.distance(t1,t2,l=1,indeterminacy=False))"
   ],
   "metadata": {
    "collapsed": false
   }
  },
  {
   "cell_type": "code",
   "execution_count": null,
   "outputs": [],
   "source": [],
   "metadata": {
    "collapsed": false
   }
  },
  {
   "cell_type": "code",
   "execution_count": null,
   "outputs": [],
   "source": [
    "# 创建一个 q-rung orthopair fuzzy number(q=3)\n",
    "t = mp.mohunum(3, [0.6,0.8],[0.3,0.5])\n",
    "t1 = mp.mohunum(3, [0.5,0.8],[0.4,0.7])\n",
    "t2 = mp.mohunum(3, [0.3,0.8],[0.1,0.6])"
   ],
   "metadata": {
    "collapsed": false
   }
  },
  {
   "cell_type": "code",
   "execution_count": null,
   "outputs": [],
   "source": [
    "print('fuzzy number: {}\\n'.format(t) +\n",
    "    'fuzzy type: {},'.format(t.mtype) + ' q=%d\\n'%t.qrung +\n",
    "    'membership degree: {}'.format(t.md)+' nonmembership degree: {} \\n' .format(t.nmd)\n",
    "      + 'Complement: {}'.format(t.comp) + ' accuracy: %.4f\\n'%t.acc\n",
    "      + 'indeterminacy: %.4f\\n' %t.ind\n",
    "      + 'score: %.4f'%t.score)"
   ],
   "metadata": {
    "collapsed": false
   }
  },
  {
   "cell_type": "code",
   "execution_count": null,
   "outputs": [],
   "source": [
    "print('The fuzzy number is valid: {}\\n'.format(t.is_valid()),\n",
    "      'The convert of the fuzzy number is {}\\n'.format(t.convert()),\n",
    "      'The fuzzy numenbr is empty: {}'.format(t.isEmpty()))"
   ],
   "metadata": {
    "collapsed": false
   }
  },
  {
   "cell_type": "code",
   "execution_count": null,
   "outputs": [],
   "source": [
    "print('t1 + t2 = {}\\n'.format(t1+t2),\n",
    "      't1*t2 = {}\\n'.format(t1*t2),\n",
    "      't1^0.3 = {}\\n'.format(t1**0.3),\n",
    "      '0.3*t1 = {}\\n'.format(0.3*t1),)"
   ],
   "metadata": {
    "collapsed": false
   }
  },
  {
   "cell_type": "code",
   "execution_count": null,
   "outputs": [],
   "source": [
    "mp.plot(t)"
   ],
   "metadata": {
    "collapsed": false
   }
  },
  {
   "cell_type": "code",
   "execution_count": null,
   "outputs": [],
   "source": [
    "# 将一个字符串转换成模糊数\n",
    "s = '[[0.3,0.7],[0.5,0.6]'\n",
    "print(mp.str2mohu(s,3,'ivfn'))\n",
    "print(type(mp.str2mohu(s,3,'ivfn')))"
   ],
   "metadata": {
    "collapsed": false
   }
  },
  {
   "cell_type": "code",
   "execution_count": null,
   "outputs": [],
   "source": [
    "# t1 和 t2 的欧氏距离\n",
    "print(mp.distance(t1,t2,l=2))\n",
    "# t1 和 t2 的欧氏距离（不考虑不确定度）\n",
    "print(mp.distance(t1,t2,l=1,indeterminacy=False))"
   ],
   "metadata": {
    "collapsed": false
   }
  },
  {
   "cell_type": "code",
   "execution_count": null,
   "outputs": [],
   "source": [],
   "metadata": {
    "collapsed": false
   }
  }
 ],
 "metadata": {
  "kernelspec": {
   "display_name": "Python 3",
   "language": "python",
   "name": "python3"
  },
  "language_info": {
   "codemirror_mode": {
    "name": "ipython",
    "version": 2
   },
   "file_extension": ".py",
   "mimetype": "text/x-python",
   "name": "python",
   "nbconvert_exporter": "python",
   "pygments_lexer": "ipython2",
   "version": "2.7.6"
  }
 },
 "nbformat": 4,
 "nbformat_minor": 0
}
