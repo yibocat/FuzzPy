{
 "cells": [
  {
   "cell_type": "code",
   "execution_count": 1,
   "outputs": [],
   "source": [
    "import numpy as np\n",
    "import mohupy as mp"
   ],
   "metadata": {
    "collapsed": false
   }
  },
  {
   "cell_type": "code",
   "execution_count": 2,
   "outputs": [],
   "source": [
    "from itertools import product"
   ],
   "metadata": {
    "collapsed": false
   }
  },
  {
   "cell_type": "code",
   "execution_count": 12,
   "outputs": [],
   "source": [
    "def qrohfn2qrofn(y):\n",
    "    p = list(product(y.md, y.nmd))\n",
    "    newset = mp.fuzzset()\n",
    "    for i in p:\n",
    "        newset.append(mp.fuzznum(y.qrung, i[0], i[1]))\n",
    "    return newset"
   ],
   "metadata": {
    "collapsed": false
   }
  },
  {
   "cell_type": "code",
   "execution_count": 43,
   "outputs": [],
   "source": [
    "t  = mp.random.rand(3, 'qrohfn',2,1, minnum=3, maxnum=10)"
   ],
   "metadata": {
    "collapsed": false
   }
  },
  {
   "cell_type": "code",
   "execution_count": 43,
   "outputs": [],
   "source": [],
   "metadata": {
    "collapsed": false
   }
  },
  {
   "cell_type": "code",
   "execution_count": 43,
   "outputs": [],
   "source": [],
   "metadata": {
    "collapsed": false
   }
  },
  {
   "cell_type": "code",
   "execution_count": 44,
   "outputs": [],
   "source": [
    "vec_func = np.vectorize(qrohfn2qrofn)\n",
    "result = vec_func(t)"
   ],
   "metadata": {
    "collapsed": false
   }
  },
  {
   "cell_type": "code",
   "execution_count": 47,
   "outputs": [
    {
     "data": {
      "text/plain": "Fuzzarray([<0.7548,0.7335> <0.7548,0.5648> <0.7548,0.2598> <0.7548,0.6001>\n           <0.1003,0.7335> <0.1003,0.5648> <0.1003,0.2598> <0.1003,0.6001>\n           <0.7772,0.7335> <0.7772,0.5648> <0.7772,0.2598> <0.7772,0.6001>\n           <0.1172,0.7335> <0.1172,0.5648> <0.1172,0.2598> <0.1172,0.6001>\n           <0.5765,0.7335> <0.5765,0.5648> <0.5765,0.2598> <0.5765,0.6001>\n           <0.0582,0.7335> <0.0582,0.5648> <0.0582,0.2598> <0.0582,0.6001>\n           <0.5678,0.7335> <0.5678,0.5648> <0.5678,0.2598> <0.5678,0.6001>], qrung=3, mtype=qrofn)"
     },
     "execution_count": 47,
     "metadata": {},
     "output_type": "execute_result"
    }
   ],
   "source": [
    "result[0,0]"
   ],
   "metadata": {
    "collapsed": false
   }
  },
  {
   "cell_type": "code",
   "execution_count": 46,
   "outputs": [
    {
     "data": {
      "text/plain": "array([[Fuzzarray([<0.7548,0.7335> <0.7548,0.5648> <0.7548,0.2598> <0.7548,0.6001>\n                   <0.1003,0.7335> <0.1003,0.5648> <0.1003,0.2598> <0.1003,0.6001>\n                   <0.7772,0.7335> <0.7772,0.5648> <0.7772,0.2598> <0.7772,0.6001>\n                   <0.1172,0.7335> <0.1172,0.5648> <0.1172,0.2598> <0.1172,0.6001>\n                   <0.5765,0.7335> <0.5765,0.5648> <0.5765,0.2598> <0.5765,0.6001>\n                   <0.0582,0.7335> <0.0582,0.5648> <0.0582,0.2598> <0.0582,0.6001>\n                   <0.5678,0.7335> <0.5678,0.5648> <0.5678,0.2598> <0.5678,0.6001>], qrung=3, mtype=qrofn)],\n       [Fuzzarray([<0.2637,0.4517> <0.2637,0.3176> <0.2637,0.1461> <0.2637,0.2396>\n                   <0.4111,0.4517> <0.4111,0.3176> <0.4111,0.1461> <0.4111,0.2396>\n                   <0.1823,0.4517> <0.1823,0.3176> <0.1823,0.1461> <0.1823,0.2396>\n                   <0.5779,0.4517> <0.5779,0.3176> <0.5779,0.1461> <0.5779,0.2396>\n                   <0.7562,0.4517> <0.7562,0.3176> <0.7562,0.1461> <0.7562,0.2396>\n                   <0.0478,0.4517> <0.0478,0.3176> <0.0478,0.1461> <0.0478,0.2396>], qrung=3, mtype=qrofn)]],\n      dtype=object)"
     },
     "execution_count": 46,
     "metadata": {},
     "output_type": "execute_result"
    }
   ],
   "source": [
    "result"
   ],
   "metadata": {
    "collapsed": false
   }
  },
  {
   "cell_type": "code",
   "execution_count": null,
   "outputs": [],
   "source": [],
   "metadata": {
    "collapsed": false
   }
  },
  {
   "cell_type": "code",
   "execution_count": null,
   "outputs": [],
   "source": [],
   "metadata": {
    "collapsed": false
   }
  },
  {
   "cell_type": "code",
   "execution_count": null,
   "outputs": [],
   "source": [],
   "metadata": {
    "collapsed": false
   }
  }
 ],
 "metadata": {
  "kernelspec": {
   "display_name": "Python 3",
   "language": "python",
   "name": "python3"
  },
  "language_info": {
   "codemirror_mode": {
    "name": "ipython",
    "version": 2
   },
   "file_extension": ".py",
   "mimetype": "text/x-python",
   "name": "python",
   "nbconvert_exporter": "python",
   "pygments_lexer": "ipython2",
   "version": "2.7.6"
  }
 },
 "nbformat": 4,
 "nbformat_minor": 0
}
