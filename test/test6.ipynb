{
 "cells": [
  {
   "cell_type": "code",
   "execution_count": 1,
   "outputs": [],
   "source": [
    "import numpy as np\n",
    "\n",
    "import mohupy.base as mpb\n",
    "\n",
    "from mohupy.lib import Approx"
   ],
   "metadata": {
    "collapsed": false
   }
  },
  {
   "cell_type": "code",
   "execution_count": 2,
   "outputs": [],
   "source": [
    "t = mpb.fuzznum(3, 0.6432645432532,0.24326546453)"
   ],
   "metadata": {
    "collapsed": false
   }
  },
  {
   "cell_type": "code",
   "execution_count": 5,
   "outputs": [],
   "source": [],
   "metadata": {
    "collapsed": false
   }
  },
  {
   "cell_type": "code",
   "execution_count": 6,
   "outputs": [],
   "source": [
    "def random_qrofn(q, num=0):\n",
    "    \"\"\"\n",
    "        Randomly generate a q-rung orthopair fuzzy number.\n",
    "\n",
    "        Parameters\n",
    "        ----------\n",
    "            q:  int\n",
    "                The q rung\n",
    "            num:  int\n",
    "                default 1\n",
    "\n",
    "        Returns\n",
    "        -------\n",
    "            Fuzznum\n",
    "    \"\"\"\n",
    "    from mohupy.base.function import fuzznum\n",
    "    newfn = fuzznum(q, 0., 0.)\n",
    "    while True:\n",
    "        newfn.md = np.round(np.random.rand(), Approx.round)\n",
    "        newfn.nmd = np.round(np.random.rand(), Approx.round)\n",
    "        if newfn.isValid():\n",
    "            break\n",
    "    return newfn"
   ],
   "metadata": {
    "collapsed": false
   }
  },
  {
   "cell_type": "code",
   "execution_count": 16,
   "outputs": [
    {
     "data": {
      "text/plain": "<0.3161,0.4473>"
     },
     "execution_count": 16,
     "metadata": {},
     "output_type": "execute_result"
    }
   ],
   "source": [
    "random_qrofn(3)"
   ],
   "metadata": {
    "collapsed": false
   }
  },
  {
   "cell_type": "code",
   "execution_count": null,
   "outputs": [],
   "source": [],
   "metadata": {
    "collapsed": false
   }
  },
  {
   "cell_type": "code",
   "execution_count": null,
   "outputs": [],
   "source": [],
   "metadata": {
    "collapsed": false
   }
  }
 ],
 "metadata": {
  "kernelspec": {
   "display_name": "Python 3",
   "language": "python",
   "name": "python3"
  },
  "language_info": {
   "codemirror_mode": {
    "name": "ipython",
    "version": 2
   },
   "file_extension": ".py",
   "mimetype": "text/x-python",
   "name": "python",
   "nbconvert_exporter": "python",
   "pygments_lexer": "ipython2",
   "version": "2.7.6"
  }
 },
 "nbformat": 4,
 "nbformat_minor": 0
}
